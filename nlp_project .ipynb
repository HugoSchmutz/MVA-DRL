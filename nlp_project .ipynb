{
  "nbformat": 4,
  "nbformat_minor": 0,
  "metadata": {
    "kernelspec": {
      "name": "python3",
      "display_name": "Python 3"
    },
    "language_info": {
      "codemirror_mode": {
        "name": "ipython",
        "version": 3
      },
      "file_extension": ".py",
      "mimetype": "text/x-python",
      "name": "python",
      "nbconvert_exporter": "python",
      "pygments_lexer": "ipython3",
      "version": "3.7.3"
    },
    "colab": {
      "name": "nlp_project.ipynb",
      "provenance": [],
      "collapsed_sections": []
    },
    "accelerator": "GPU"
  },
  "cells": [
    {
      "cell_type": "markdown",
      "metadata": {
        "id": "0RTD6Y4xEiAP",
        "colab_type": "text"
      },
      "source": [
        "# Deep Learning for NLP - Project"
      ]
    },
    {
      "cell_type": "markdown",
      "metadata": {
        "id": "Ajn2uNUxEiAT",
        "colab_type": "text"
      },
      "source": [
        "RULES:\n",
        "\n",
        "* Do not create any additional cell\n",
        "\n",
        "* Fill in the blanks\n",
        "\n",
        "* All cells should be runnable (modulo trivial compatibility bugs that we'd fix)\n",
        "\n",
        "* 4 / 20 points will be allocated to the clarity of your code\n",
        "\n",
        "* Efficient code will have a bonus\n",
        "\n",
        "DELIVERABLE:\n",
        "\n",
        "* the pdf with your answers\n",
        "* this notebook\n",
        "* the predictions of the SST test set\n",
        "\n",
        "DO NOT INCLUDE THE DATASETS IN THE DELIVERABLE.."
      ]
    },
    {
      "cell_type": "code",
      "metadata": {
        "jupyter": {
          "outputs_hidden": false
        },
        "id": "YgQ75C8CEiAU",
        "colab_type": "code",
        "colab": {}
      },
      "source": [
        "# Python 3.6 or above is required\n",
        "from collections import defaultdict\n",
        "import gzip\n",
        "import numpy as np\n",
        "from pathlib import Path\n",
        "from tqdm import tqdm\n",
        "import os\n",
        "import matplotlib.pyplot as plt\n"
      ],
      "execution_count": 0,
      "outputs": []
    },
    {
      "cell_type": "code",
      "metadata": {
        "id": "kYwnjyBcEiAa",
        "colab_type": "code",
        "outputId": "e290d233-c4e1-4217-eb13-99ee0a2bde30",
        "colab": {
          "base_uri": "https://localhost:8080/",
          "height": 122
        }
      },
      "source": [
        "from google.colab import drive\n",
        "drive.mount('/content/drive')\n",
        "os.chdir(\"/content/drive/My Drive/nlp_project\")\n",
        "os.getcwd() \n",
        "\n",
        "import urllib.request\n",
        "PATH_TO_DATA = Path('data/')\n",
        "# Download word vectors, might take a few minutes and about ~3GB of storage space\n",
        "en_embeddings_path = PATH_TO_DATA / 'cc.en.300.vec.gz'\n",
        "if not en_embeddings_path.exists():\n",
        "    urllib.request.urlretrieve('https://dl.fbaipublicfiles.com/fasttext/vectors-crawl/cc.en.300.vec.gz', en_embeddings_path)\n",
        "fr_embeddings_path = PATH_TO_DATA / 'cc.fr.300.vec.gz'\n",
        "if not fr_embeddings_path.exists():\n",
        "    urllib.request.urlretrieve('https://dl.fbaipublicfiles.com/fasttext/vectors-crawl/cc.fr.300.vec.gz', fr_embeddings_path)"
      ],
      "execution_count": 0,
      "outputs": [
        {
          "output_type": "stream",
          "text": [
            "Go to this URL in a browser: https://accounts.google.com/o/oauth2/auth?client_id=947318989803-6bn6qk8qdgf4n4g3pfee6491hc0brc4i.apps.googleusercontent.com&redirect_uri=urn%3aietf%3awg%3aoauth%3a2.0%3aoob&response_type=code&scope=email%20https%3a%2f%2fwww.googleapis.com%2fauth%2fdocs.test%20https%3a%2f%2fwww.googleapis.com%2fauth%2fdrive%20https%3a%2f%2fwww.googleapis.com%2fauth%2fdrive.photos.readonly%20https%3a%2f%2fwww.googleapis.com%2fauth%2fpeopleapi.readonly\n",
            "\n",
            "Enter your authorization code:\n",
            "··········\n",
            "Mounted at /content/drive\n"
          ],
          "name": "stdout"
        }
      ]
    },
    {
      "cell_type": "markdown",
      "metadata": {
        "id": "UmK32TjhEiAg",
        "colab_type": "text"
      },
      "source": [
        "# 1) Monolingual (English) word embeddings "
      ]
    },
    {
      "cell_type": "code",
      "metadata": {
        "id": "SycY1mycEiAh",
        "colab_type": "code",
        "colab": {}
      },
      "source": [
        "class Word2Vec():\n",
        "\n",
        "    def __init__(self, filepath, vocab_size=50000):\n",
        "        self.words, self.embeddings = self.load_wordvec(filepath, vocab_size)\n",
        "        # Mappings for O(1) retrieval:\n",
        "        self.word2id = {word: idx for idx, word in enumerate(self.words)}\n",
        "        self.id2word = {idx: word for idx, word in enumerate(self.words)}\n",
        "    \n",
        "    def load_wordvec(self, filepath, vocab_size):\n",
        "        assert str(filepath).endswith('.gz')\n",
        "        words = []\n",
        "        embeddings = []\n",
        "        with gzip.open(filepath, 'rt') as f:  # Read compressed file directly\n",
        "            next(f)  # Skip header\n",
        "            for i, line in enumerate(f):\n",
        "                word, vec = line.split(' ', 1)\n",
        "                words.append(word)\n",
        "                embeddings.append(np.fromstring(vec, sep=' '))\n",
        "                if i == (vocab_size - 1):\n",
        "                    break\n",
        "        print('Loaded %s pretrained word vectors' % (len(words)))\n",
        "        return words, np.vstack(embeddings)\n",
        "    \n",
        "    def encode(self, word):\n",
        "        # Returns the 1D embedding of a given word\n",
        "        \n",
        "        #verify if word is in our vocabulary\n",
        "        if not (word in self.words): raise ValueError('Word must be in the vocabulary: ', word)\n",
        "        \n",
        "        word_id = self.word2id[word]\n",
        "        return(self.embeddings[word_id])\n",
        "        \n",
        "    def score(self, word1, word2):\n",
        "        # Return the cosine similarity: use np.dot & np.linalg.norm\n",
        "        #raise NotImplementedError('Fill in the blank')\n",
        "        embdg1 = self.encode(word1)\n",
        "        embdg2 = self.encode(word2)\n",
        "        norm1 = np.linalg.norm(embdg1)\n",
        "        norm2 = np.linalg.norm(embdg2)\n",
        "        return(np.dot(embdg1,embdg2)/(norm1*norm2))\n",
        "    \n",
        "    def most_similar(self, word, k=5):\n",
        "        # Returns the k most similar words: self.score & np.argsort \n",
        "        \n",
        "        #compute score with every word of the vocabulary\n",
        "        simiarities = np.array([self.score(word, word1) for word1 in self.words])\n",
        "        most_sim_id=np.argsort(simiarities)[::-1][1:k+1]\n",
        "        \n",
        "        return(np.array([self.id2word[idx] for idx in most_sim_id]))"
      ],
      "execution_count": 0,
      "outputs": []
    },
    {
      "cell_type": "code",
      "metadata": {
        "jupyter": {
          "outputs_hidden": false
        },
        "id": "V0Y4FrePEiAm",
        "colab_type": "code",
        "colab": {}
      },
      "source": [
        "word2vec = Word2Vec(en_embeddings_path, vocab_size=50000)\n",
        "\n",
        "# You will be evaluated on the output of the following:\n",
        "for word1, word2 in zip(('cat', 'cat', 'cat', 'Paris', 'Paris', 'Paris', 'Paris'), ('tree', 'dog', 'pet', 'France', 'Germany', 'baguette', 'donut')):\n",
        "    print(word1, word2, word2vec.score(word1, word2))\n",
        "for word in ['cat', 'dog', 'dogs', 'Paris', 'Germany']:\n",
        "    print(word2vec.most_similar(word))"
      ],
      "execution_count": 0,
      "outputs": []
    },
    {
      "cell_type": "code",
      "metadata": {
        "jupyter": {
          "outputs_hidden": false
        },
        "id": "8UEfotpEEiAr",
        "colab_type": "code",
        "colab": {}
      },
      "source": [
        "class BagOfWords():\n",
        "    \n",
        "    def __init__(self, word2vec):\n",
        "        self.word2vec = word2vec\n",
        "    \n",
        "    def build_idf(self, sentences):\n",
        "        # build the idf dictionary: associate each word to its idf value\n",
        "        # -> idf = {word: idf_value, ...}\n",
        "        D=len(sentences)\n",
        "        idf={}\n",
        "        occ_word={}\n",
        "        for line in tqdm(sentences):\n",
        "            for word in line.strip().split(' '):\n",
        "                occ_word[word]=occ_word.get(word,0)+1\n",
        "        for word in tqdm(occ_word.keys()):\n",
        "                idf[word] = np.log(D/occ_word[word])\n",
        "        return(idf)  \n",
        "        \n",
        "    def encode(self, sentence, idf=None):\n",
        "        # Takes a sentence as input, returns the sentence embedding\n",
        "        if idf is None:\n",
        "            # mean of word vectors\n",
        "            word_vec = np.array([self.word2vec.encode(word) for word in sentence.strip().split(' ') if word in self.word2vec.words])\n",
        "            return(np.mean(word_vec ,axis=0))\n",
        "        else:\n",
        "            # idf-weighted mean of word vectors\n",
        "            word_vec = np.array([idf[word]*self.word2vec.encode(word) for word in sentence.strip().split(' ') if word in self.word2vec.words])\n",
        "            return(np.mean(word_vec,axis=0))\n",
        "            \n",
        "    def score(self, sentence1, sentence2, idf=None):\n",
        "        # cosine similarity: use np.dot & np.linalg.norm \n",
        "        embdg1 = self.encode(sentence1)\n",
        "        embdg2 = self.encode(sentence2)\n",
        "        norm1 = np.linalg.norm(embdg1)\n",
        "        norm2 = np.linalg.norm(embdg2)\n",
        "        return(np.dot(embdg1,embdg2)/(norm1*norm2))\n",
        "    \n",
        "    def most_similar(self, sentence, sentences, idf=None, k=5):\n",
        "        # Return most similar sentences\n",
        "        query = self.encode(sentence, idf)\n",
        "        keys = np.vstack([self.encode(sentence, idf) for sentence in sentences])\n",
        "        score_keys=np.argsort([np.dot(query,key)/(np.linalg.norm(query)* np.linalg.norm(key)) for key in keys])[::-1][1:k+1]\n",
        "        return([sentences[idx] for idx in score_keys])"
      ],
      "execution_count": 0,
      "outputs": []
    },
    {
      "cell_type": "code",
      "metadata": {
        "jupyter": {
          "outputs_hidden": false
        },
        "id": "nTYoRHgaEiAy",
        "colab_type": "code",
        "colab": {}
      },
      "source": [
        "word2vec = Word2Vec(en_embeddings_path, vocab_size=50000)\n",
        "sentence2vec = BagOfWords(word2vec)\n",
        "\n",
        "# Load sentences in \"PATH_TO_DATA/sentences.txt\"\n",
        "filepath = PATH_TO_DATA / 'sentences.txt'\n",
        "with open(filepath, 'r') as f:\n",
        "    sentences = [line.strip('\\n') for line in f]\n",
        "\n",
        "\n",
        "# You will be evaluated on the output of the following:\n",
        "print('\\n\\tAverage of word embeddings')\n",
        "sentence1 = sentences[7]\n",
        "sentence2 = sentences[13]\n",
        "\n",
        "print(sentence1)\n",
        "print(sentence2)\n",
        "print(sentence2vec.score(sentence1, sentence2))\n",
        "sentence = sentences[10]\n",
        "similar_sentences = sentence2vec.most_similar(sentence, sentences)  # BagOfWords-mean\n",
        "print(sentence)\n",
        "for i, sentence in enumerate(similar_sentences):\n",
        "    print(str(i+1) + ')', sentence)\n",
        "\n",
        "# Build idf scores for each word\n",
        "idf = sentence2vec.build_idf(sentences)\n",
        "\n",
        "print('\\n\\tidf weighted average of word embeddings')\n",
        "print(sentence1)\n",
        "print(sentence2)\n",
        "print(sentence2vec.score(sentence1, sentence2, idf))\n",
        "similar_sentences = sentence2vec.most_similar(sentence, sentences, idf)  # BagOfWords-idf\n",
        "print(sentence)\n",
        "for i, sentence in enumerate(similar_sentences):\n",
        "    print(str(i+1) + ')', sentence)"
      ],
      "execution_count": 0,
      "outputs": []
    },
    {
      "cell_type": "markdown",
      "metadata": {
        "id": "R2ICewLdEiA3",
        "colab_type": "text"
      },
      "source": [
        "# 2) Multilingual (English-French) word embeddings"
      ]
    },
    {
      "cell_type": "markdown",
      "metadata": {
        "id": "KKBU9Ie2EiA4",
        "colab_type": "text"
      },
      "source": [
        "Let's consider a bilingual dictionary of size V_a (e.g French-English).\n",
        "\n",
        "Let's define **X** and **Y** the **French** and **English** matrices.\n",
        "\n",
        "They contain the embeddings associated to the words in the bilingual dictionary.\n",
        "\n",
        "We want to find a **mapping W** that will project the source word space (e.g French) to the target word space (e.g English).\n",
        "\n",
        "Procrustes : **W\\* = argmin || W.X - Y ||  s.t  W^T.W = Id**\n",
        "has a closed form solution:\n",
        "**W = U.V^T  where  U.Sig.V^T = SVD(Y.X^T)**\n",
        "\n",
        "In what follows, you are asked to: "
      ]
    },
    {
      "cell_type": "code",
      "metadata": {
        "id": "6IgiEmxMEiA5",
        "colab_type": "code",
        "colab": {}
      },
      "source": [
        "class MultilingualWordAligner:\n",
        "    \n",
        "    def __init__(self, fr_word2vec, en_word2vec):\n",
        "        self.fr_word2vec = fr_word2vec\n",
        "        self.en_word2vec = en_word2vec\n",
        "        self.aligned_fr_embeddings = self.get_aligned_fr_embeddings()\n",
        "        \n",
        "    def get_aligned_fr_embeddings(self):\n",
        "        # 1 - Get words that appear in both vocabs (= identical character strings)\n",
        "        #     Use it to create the matrix X (emb_dim, vocab_size) and Y (emb_dim, vocab_size) (of embeddings for these words)\n",
        "        X=[]\n",
        "        Y=[]\n",
        "        common_words=list(set(self.fr_word2vec.words)&set(self.en_word2vec.words))\n",
        "        for word in common_words:\n",
        "            X.append(fr_word2vec.encode(word))\n",
        "            Y.append(en_word2vec.encode(word))\n",
        "        X=np.vstack(X).T\n",
        "        Y=np.vstack(Y).T\n",
        "        assert X.shape[0] == 300 and Y.shape[0] == 300\n",
        "        \n",
        "        # 2 - Solve the Procrustes using the numpy package and: np.linalg.svd() and get the optimal W\n",
        "        #     Now self.fr_word2vec.embeddings * W.transpose() is in the same space as en_word2vec.embeddings\n",
        "        \n",
        "        U, S, V = np.linalg.svd(Y@X.T)\n",
        "        W = U@V\n",
        "        assert W.shape == (300, 300)\n",
        "        return np.matmul(self.fr_word2vec.embeddings, W.transpose())\n",
        "        \n",
        "    def get_closest_english_words(self, fr_word, k=3):\n",
        "        # 3 - Return the top k English nearest neighbors to the input French word\n",
        "        \n",
        "        #Get target encoding of the french word\n",
        "        word_id = self.fr_word2vec.word2id[fr_word]\n",
        "        target_embd= self.aligned_fr_embeddings[word_id]\n",
        "        \n",
        "        #function to compute the cosine similarity score\n",
        "        score = lambda en_word: np.dot(target_embd,self.en_word2vec.encode(en_word))/(np.linalg.norm(target_embd)*np.linalg.norm(self.en_word2vec.encode(en_word)))\n",
        "       \n",
        "        #compute score with every word of the vocabulary\n",
        "        simiarities = np.array([score(en_word) for en_word in self.en_word2vec.words])\n",
        "        most_sim_id = np.argsort(simiarities)[::-1][1:k+1]\n",
        "        \n",
        "        return(np.array([self.en_word2vec.id2word[idx] for idx in most_sim_id]))"
      ],
      "execution_count": 0,
      "outputs": []
    },
    {
      "cell_type": "code",
      "metadata": {
        "id": "q1jK9R1OEiBA",
        "colab_type": "code",
        "colab": {}
      },
      "source": [
        "fr_word2vec = Word2Vec(fr_embeddings_path, vocab_size=50000)\n",
        "en_word2vec = Word2Vec(en_embeddings_path, vocab_size=50000)\n",
        "multilingual_word_aligner = MultilingualWordAligner(fr_word2vec, en_word2vec)\n",
        "\n",
        "# You will be evaluated on the output of the following:\n",
        "fr_words = ['chat', 'chien', 'voiture', 'zut']\n",
        "k = 3\n",
        "for fr_word in fr_words:\n",
        "    print('-' * 10)\n",
        "    print(f'fr: \"{fr_word}\"')\n",
        "    en_words = multilingual_word_aligner.get_closest_english_words(fr_word, k=3)\n",
        "    for en_word in en_words:\n",
        "        print(f'en: \"{en_word}\"')"
      ],
      "execution_count": 0,
      "outputs": []
    },
    {
      "cell_type": "markdown",
      "metadata": {
        "id": "i77Dh7dfEiBH",
        "colab_type": "text"
      },
      "source": [
        "If you want to dive deeper on this subject: https://github.com/facebookresearch/MUSE"
      ]
    },
    {
      "cell_type": "markdown",
      "metadata": {
        "id": "Ilr0L1goEiBI",
        "colab_type": "text"
      },
      "source": [
        "# 3) Sentence classification with BoV and scikit-learn"
      ]
    },
    {
      "cell_type": "code",
      "metadata": {
        "id": "Edgx0ovpEiBK",
        "colab_type": "code",
        "colab": {}
      },
      "source": [
        "# 1 - Load train/dev/test of Stanford Sentiment TreeBank (SST)\n",
        "#     (https://nlp.stanford.edu/~socherr/EMNLP2013_RNTN.pdf)\n",
        "train_filepath = PATH_TO_DATA / 'SST/stsa.fine.train'\n",
        "dev_filepath = PATH_TO_DATA / 'SST/stsa.fine.dev'\n",
        "test_filepath = PATH_TO_DATA / 'SST/stsa.fine.test.X'\n",
        "\n",
        "def load_train(filepath):\n",
        "    labels = []\n",
        "    sentences = []\n",
        "    with open(filepath) as f:\n",
        "        for line in f:\n",
        "            label,sentence=line.strip('\\n').split(' ',1)\n",
        "            labels.append(label)\n",
        "            sentences.append(sentence)\n",
        "    return(sentences,labels)\n",
        "\n",
        "\n",
        "def load_test(filepath):\n",
        "    sentences = []\n",
        "    with open(filepath) as f:\n",
        "        for line in f:\n",
        "            sentence=line.strip('\\n')\n",
        "            sentences.append(sentence)\n",
        "    return(sentences)\n",
        "\n",
        "sentences_train, label_train = load_train(train_filepath)\n",
        "sentences_dev, label_dev = load_train(dev_filepath)\n",
        "sentences_test = load_test(test_filepath)"
      ],
      "execution_count": 0,
      "outputs": []
    },
    {
      "cell_type": "code",
      "metadata": {
        "id": "2wNNJWGFEiBO",
        "colab_type": "code",
        "outputId": "bc3e148f-8daa-4772-881c-65efd5bd14f0",
        "colab": {
          "base_uri": "https://localhost:8080/",
          "height": 136
        }
      },
      "source": [
        "# 2 - Encode sentences with the BoV model above\n",
        "\n",
        "word2vec = Word2Vec(en_embeddings_path, vocab_size=50000)\n",
        "sentence2vec = BagOfWords(word2vec)\n",
        "\n",
        "idf_train = sentence2vec.build_idf(sentences_train)\n",
        "idf_dev = sentence2vec.build_idf(sentences_dev)\n",
        "idf_test = sentence2vec.build_idf(sentences_test)\n",
        "\n",
        "def encode_sentences(sentences,idf=None):\n",
        "    X=[]\n",
        "    for sentence in sentences:\n",
        "        embd = sentence2vec.encode(sentence, idf)\n",
        "        X.append(embd)\n",
        "    return(np.vstack(X))\n",
        "\n",
        "#Encode with the average of word vectors\n",
        "X_train = encode_sentences(sentences_train)\n",
        "X_dev = encode_sentences(sentences_dev)\n",
        "X_test = encode_sentences(sentences_test)\n",
        "\n",
        "#Encore with the weighted-average\n",
        "X_train_idf = encode_sentences(sentences_train, idf_train)\n",
        "X_dev_idf = encode_sentences(sentences_dev, idf_dev)\n",
        "X_test_idf = encode_sentences(sentences_test, idf_test)"
      ],
      "execution_count": 0,
      "outputs": [
        {
          "output_type": "stream",
          "text": [
            "\r  0%|          | 0/8544 [00:00<?, ?it/s]"
          ],
          "name": "stderr"
        },
        {
          "output_type": "stream",
          "text": [
            "Loaded 50000 pretrained word vectors\n"
          ],
          "name": "stdout"
        },
        {
          "output_type": "stream",
          "text": [
            "100%|██████████| 8544/8544 [00:00<00:00, 158045.97it/s]\n",
            "100%|██████████| 16581/16581 [00:00<00:00, 640207.63it/s]\n",
            "100%|██████████| 1101/1101 [00:00<00:00, 152105.69it/s]\n",
            "100%|██████████| 5038/5038 [00:00<00:00, 552803.23it/s]\n",
            "100%|██████████| 2210/2210 [00:00<00:00, 141892.51it/s]\n",
            "100%|██████████| 7929/7929 [00:00<00:00, 505796.66it/s]\n"
          ],
          "name": "stderr"
        }
      ]
    },
    {
      "cell_type": "code",
      "metadata": {
        "id": "O5S4OTp5EiBT",
        "colab_type": "code",
        "colab": {}
      },
      "source": [
        "# 3 - Learn Logistic Regression on top of sentence embeddings using scikit-learn\n",
        "#     (consider tuning the L2 regularization on the dev set)\n",
        "#     In the paper, the accuracy for average of word vectors is 32.7%\n",
        "#     (VecAvg, table 1, https://nlp.stanford.edu/~socherr/EMNLP2013_RNTN.pdf)\n",
        "\n",
        "from sklearn.linear_model import LogisticRegression\n",
        "print(\"Encode with the average of word vectors\")\n",
        "clf = LogisticRegression(random_state=0,max_iter = 2000).fit(X_train, label_train)\n",
        "print(\"Score on train:\",clf.score(X_train, label_train))\n",
        "print(\"Score on dev:\",clf.score(X_dev, label_dev))\n",
        "\n",
        "print()\n",
        "\n",
        "print(\"Encore with the weighted-average\")\n",
        "clf = LogisticRegression(random_state=0,max_iter = 2000).fit(X_train_idf, label_train)\n",
        "print(\"Score on train:\",clf.score(X_train_idf, label_train))\n",
        "print(\"Score on dev:\",clf.score(X_dev_idf, label_dev))"
      ],
      "execution_count": 0,
      "outputs": []
    },
    {
      "cell_type": "code",
      "metadata": {
        "id": "EFN9uYjBEiBX",
        "colab_type": "code",
        "colab": {}
      },
      "source": [
        "# 4 - Produce 2210 predictions for the test set (in the same order). One line = one prediction (=0,1,2,3,4).\n",
        "#     Attach the output file \"logreg_bov_y_test_sst.txt\" to your deliverable.\n",
        "#     You will be evaluated on the results of the test set.\n",
        "\n",
        "prediction = clf.predict(X_test_idf)\n",
        "print(prediction)\n",
        "\n",
        "print(prediction[-1], sentences_test[-1])\n",
        "\n",
        "def write_prediction(classifier_name, prediction):\n",
        "    f = open(\"{}_bov_y_test_sst.txt\".format(classifier_name), \"w\")\n",
        "    for pred in prediction:\n",
        "        f.write(pred)\n",
        "        f.write('\\n')\n",
        "    f.close()\n",
        "\n",
        "write_prediction('logreg', prediction)"
      ],
      "execution_count": 0,
      "outputs": []
    },
    {
      "cell_type": "code",
      "metadata": {
        "id": "2AQuQrP3EiBc",
        "colab_type": "code",
        "colab": {}
      },
      "source": [
        "# BONUS!\n",
        "# 5 - Try to improve performance with another classifier\n",
        "#     Attach the output file \"XXX_bov_y_test_sst.txt\" to your deliverable (where XXX = the name of the classifier)\n",
        "\n",
        "from sklearn.neural_network import MLPClassifier\n",
        "from sklearn.neighbors import KNeighborsClassifier\n",
        "from sklearn.svm import SVC\n",
        "from sklearn.gaussian_process import GaussianProcessClassifier\n",
        "from sklearn.gaussian_process.kernels import RBF\n",
        "from sklearn.tree import DecisionTreeClassifier\n",
        "from sklearn.ensemble import RandomForestClassifier, AdaBoostClassifier\n",
        "from sklearn.naive_bayes import GaussianNB\n",
        "from sklearn.discriminant_analysis import QuadraticDiscriminantAnalysis\n",
        "\n",
        "names = [\"Nearest Neighbors\", \"Linear SVM\", \"RBF SVM\", \"Gaussian Process\",\n",
        "         \"Decision Tree\", \"Random Forest\", \"Neural Net\", \"AdaBoost\",\n",
        "         \"Naive Bayes\", \"QDA\"]\n",
        "\n",
        "classifiers = [\n",
        "    KNeighborsClassifier(3),\n",
        "    SVC(kernel=\"linear\", C=0.025),\n",
        "    SVC(gamma=2, C=1),\n",
        "    DecisionTreeClassifier(max_depth=5),\n",
        "    RandomForestClassifier(max_depth=5, n_estimators=10, max_features=1),\n",
        "    MLPClassifier(alpha=1, max_iter=1000),\n",
        "    AdaBoostClassifier(),\n",
        "    GaussianNB(),\n",
        "    QuadraticDiscriminantAnalysis()]\n",
        "\n",
        "for name, clf in zip(names, classifiers):\n",
        "    clf.fit(X_train, label_train)\n",
        "    score = clf.score(X_train, label_train)\n",
        "    print(name,' train: ',score)\n",
        "    score = clf.score(X_dev, label_dev)\n",
        "    print(name,' dev: ',score)\n",
        "    prediction = clf.predict(X_test)\n",
        "    write_prediction(name, prediction)\n",
        "    "
      ],
      "execution_count": 0,
      "outputs": []
    },
    {
      "cell_type": "markdown",
      "metadata": {
        "id": "jmIUt3nREiBj",
        "colab_type": "text"
      },
      "source": [
        "# 4) Sentence classification with LSTMs in Keras"
      ]
    },
    {
      "cell_type": "markdown",
      "metadata": {
        "id": "WiuA-VisEiBk",
        "colab_type": "text"
      },
      "source": [
        "## 4.1 - Preprocessing"
      ]
    },
    {
      "cell_type": "code",
      "metadata": {
        "jupyter": {
          "outputs_hidden": false
        },
        "id": "w6Ky0KY7EiBl",
        "colab_type": "code",
        "colab": {}
      },
      "source": [
        "import tensorflow as tf"
      ],
      "execution_count": 0,
      "outputs": []
    },
    {
      "cell_type": "code",
      "metadata": {
        "id": "EXoa_160EiBq",
        "colab_type": "code",
        "colab": {}
      },
      "source": [
        "# 1 - Using the same dataset, transform text to integers using tf.keras.preprocessing.text.one_hot function\n",
        "#     https://keras.io/preprocessing/text/\n",
        "\n",
        "def preprocess(data):\n",
        "  new_data=[]\n",
        "  for x in data:\n",
        "    new_data.append(tf.keras.preprocessing.text.one_hot(x, 50000, filters='!\"#$%&()*+,-./:;<=>?@[\\\\]^_`{|}~\\t\\n', split=' '))\n",
        "  return(new_data)\n",
        "\n",
        "X_train = preprocess(sentences_train)\n",
        "X_dev = preprocess(sentences_dev)\n",
        "X_test = preprocess(sentences_test)"
      ],
      "execution_count": 0,
      "outputs": []
    },
    {
      "cell_type": "markdown",
      "metadata": {
        "id": "M75yReHfEiBv",
        "colab_type": "text"
      },
      "source": [
        "**Padding input data**\n",
        "\n",
        "Models in Keras (and elsewhere) take batches of sentences of the same length as input. It is because Deep Learning framework have been designed to handle well Tensors, which are particularly suited for fast computation on the GPU.\n",
        "\n",
        "Since sentences have different sizes, we \"pad\" them. That is, we add dummy \"padding\" tokens so that they all have the same length.\n",
        "\n",
        "The input to a Keras model thus has this size : (batchsize, maxseqlen) where maxseqlen is the maximum length of a sentence in the batch."
      ]
    },
    {
      "cell_type": "code",
      "metadata": {
        "id": "Uy6FiXqtEiBy",
        "colab_type": "code",
        "colab": {}
      },
      "source": [
        "# 2 - Pad your sequences using tf.keras.preprocessing.sequence.pad_sequences\n",
        "#     https://keras.io/preprocessing/sequence/\n",
        "\n",
        "def preprocess_pad(data):\n",
        "  maxlen = max([len(x) for x in data])\n",
        "  return(tf.keras.preprocessing.sequence.pad_sequences(data, maxlen=None))\n",
        "\n",
        "x_train = preprocess_pad(X_train)\n",
        "\n",
        "y_train = np.array(label_train).astype(int)\n",
        "y_train = tf.keras.utils.to_categorical(y_train)#Categorical binary vectorization\n",
        "\n",
        "x_dev = preprocess_pad(X_dev)\n",
        "y_dev = np.array(label_dev).astype(int)\n",
        "y_dev = tf.keras.utils.to_categorical(y_dev)#Categorical binary vectorization\n",
        "\n",
        "x_test = preprocess_pad(X_test)"
      ],
      "execution_count": 0,
      "outputs": []
    },
    {
      "cell_type": "markdown",
      "metadata": {
        "id": "0vYnlrp4EiB3",
        "colab_type": "text"
      },
      "source": [
        "## 4.2 - Design and train your model"
      ]
    },
    {
      "cell_type": "code",
      "metadata": {
        "id": "MbN0MeiBEiB4",
        "colab_type": "code",
        "colab": {}
      },
      "source": [
        "# 3 - Design your encoder + classifier using tensorflow.keras.layers\n",
        "#     In Keras, Torch and other deep learning framework, we create a \"container\" which is the Sequential() module.\n",
        "#     Then we add components to this container : the lookup-table, the LSTM, the classifier etc.\n",
        "#     All of these components are contained in the Sequential() and are trained together.\n",
        "#     Note that the embedding layer is initialized randomly and does not take advantage of pre-trained word embeddings.\n",
        "\n",
        "\n",
        "# ADAPT CODE BELOW\n",
        "\n",
        "\n",
        "from tensorflow.keras.models import Sequential\n",
        "from tensorflow.keras.layers import Embedding, LSTM, Dense, Activation, Dropout, BatchNormalization,TimeDistributed, Conv1D, MaxPooling1D\n",
        "\n",
        "embed_dim  = 32  # word embedding dimension\n",
        "nhid       = 64  # number of hidden units in the LSTM\n",
        "vocab_size = 50000  # size of the vocabulary\n",
        "n_classes  = 5\n",
        "\n",
        "model = Sequential()\n",
        "\n",
        "model.add(Embedding(vocab_size, embed_dim))\n",
        "\n",
        "model.add(Conv1D(filters=256, kernel_size=3, activation='relu'))\n",
        "model.add(Conv1D(filters=128, kernel_size=3, activation='relu'))\n",
        "model.add(Dropout(0.5))\n",
        "model.add(MaxPooling1D(pool_size=2))\n",
        "\n",
        "model.add(Conv1D(filters=64, kernel_size=3, activation='relu'))\n",
        "model.add(Dropout(0.5))\n",
        "\n",
        "model.add(LSTM(nhid, dropout=0.2, recurrent_dropout=0.2, return_sequences=False))\n",
        "\n",
        "model.add(Dense(256))\n",
        "model.add(Activation(\"relu\"))\n",
        "model.add(Dropout(0.5))\n",
        "model.add(BatchNormalization())\n",
        "\n",
        "model.add(Dense(128))\n",
        "model.add(Activation(\"relu\"))\n",
        "model.add(Dropout(0.5))\n",
        "model.add(BatchNormalization())\n",
        "\n",
        "model.add(Dense(32))\n",
        "model.add(Activation(\"relu\"))\n",
        "model.add(Dropout(0.5))\n",
        "model.add(BatchNormalization())\n",
        "\n",
        "model.add(Dense(n_classes, activation='sigmoid'))\n"
      ],
      "execution_count": 0,
      "outputs": []
    },
    {
      "cell_type": "code",
      "metadata": {
        "jupyter": {
          "outputs_hidden": false
        },
        "id": "kC2qk4DxEiB-",
        "colab_type": "code",
        "outputId": "c0357433-79de-4a01-d543-91c8def466e6",
        "colab": {
          "base_uri": "https://localhost:8080/",
          "height": 884
        }
      },
      "source": [
        "# 4 - Define your loss/optimizer/metrics\n",
        "\n",
        "# MODIFY CODE BELOW\n",
        "              \n",
        "\n",
        "loss_classif     =   'categorical_crossentropy' # find the right loss for multi-class classification\n",
        "optimizer        =  tf.keras.optimizers.Adam(0.001) # find the right optimizer\n",
        "metrics_classif  =  ['accuracy']\n",
        "\n",
        "# Observe how easy (but blackboxed) this is in Keras\n",
        "model.compile(loss=loss_classif,\n",
        "              optimizer=optimizer,\n",
        "              metrics=metrics_classif)\n",
        "print(model.summary())"
      ],
      "execution_count": 0,
      "outputs": [
        {
          "output_type": "stream",
          "text": [
            "Model: \"sequential_10\"\n",
            "_________________________________________________________________\n",
            "Layer (type)                 Output Shape              Param #   \n",
            "=================================================================\n",
            "embedding_10 (Embedding)     (None, None, 32)          1600000   \n",
            "_________________________________________________________________\n",
            "conv1d_9 (Conv1D)            (None, None, 256)         24832     \n",
            "_________________________________________________________________\n",
            "conv1d_10 (Conv1D)           (None, None, 128)         98432     \n",
            "_________________________________________________________________\n",
            "dropout_21 (Dropout)         (None, None, 128)         0         \n",
            "_________________________________________________________________\n",
            "max_pooling1d_1 (MaxPooling1 (None, None, 128)         0         \n",
            "_________________________________________________________________\n",
            "conv1d_11 (Conv1D)           (None, None, 64)          24640     \n",
            "_________________________________________________________________\n",
            "dropout_22 (Dropout)         (None, None, 64)          0         \n",
            "_________________________________________________________________\n",
            "lstm_9 (LSTM)                (None, 64)                33024     \n",
            "_________________________________________________________________\n",
            "dense_25 (Dense)             (None, 256)               16640     \n",
            "_________________________________________________________________\n",
            "activation_19 (Activation)   (None, 256)               0         \n",
            "_________________________________________________________________\n",
            "dropout_23 (Dropout)         (None, 256)               0         \n",
            "_________________________________________________________________\n",
            "batch_normalization_19 (Batc (None, 256)               1024      \n",
            "_________________________________________________________________\n",
            "dense_26 (Dense)             (None, 128)               32896     \n",
            "_________________________________________________________________\n",
            "activation_20 (Activation)   (None, 128)               0         \n",
            "_________________________________________________________________\n",
            "dropout_24 (Dropout)         (None, 128)               0         \n",
            "_________________________________________________________________\n",
            "batch_normalization_20 (Batc (None, 128)               512       \n",
            "_________________________________________________________________\n",
            "dense_27 (Dense)             (None, 32)                4128      \n",
            "_________________________________________________________________\n",
            "activation_21 (Activation)   (None, 32)                0         \n",
            "_________________________________________________________________\n",
            "dropout_25 (Dropout)         (None, 32)                0         \n",
            "_________________________________________________________________\n",
            "batch_normalization_21 (Batc (None, 32)                128       \n",
            "_________________________________________________________________\n",
            "dense_28 (Dense)             (None, 5)                 165       \n",
            "=================================================================\n",
            "Total params: 1,836,421\n",
            "Trainable params: 1,835,589\n",
            "Non-trainable params: 832\n",
            "_________________________________________________________________\n",
            "None\n"
          ],
          "name": "stdout"
        }
      ]
    },
    {
      "cell_type": "code",
      "metadata": {
        "id": "HAyscruKEiCC",
        "colab_type": "code",
        "outputId": "a825d183-c935-4d12-8e63-8c1dcaf3e3e0",
        "colab": {
          "base_uri": "https://localhost:8080/",
          "height": 1000
        }
      },
      "source": [
        "# 5 - Train your model and find the best hyperparameters for your dev set\n",
        "#     you will be evaluated on the quality of your predictions on the test set\n",
        "#     Keras expects y_train and y_dev to be one-hot encodings of the labels, i.e. with shape=(n_samples, 5)\n",
        "\n",
        "\n",
        "# ADAPT CODE BELOW\n",
        "bs = 64\n",
        "n_epochs = 20\n",
        "\n",
        "history = model.fit(x_train, y_train, batch_size=bs, nb_epoch=n_epochs, validation_data=(x_dev, y_dev))\n",
        "\n",
        "# summarize history for accuracy\n",
        "plt.plot(history.history['acc'])\n",
        "plt.plot(history.history['val_acc'])\n",
        "plt.title('model accuracy')\n",
        "plt.ylabel('accuracy')\n",
        "plt.xlabel('epoch')\n",
        "plt.legend(['train', 'test'], loc='upper left')\n",
        "plt.show()\n",
        "# summarize history for loss\n",
        "plt.plot(history.history['loss'])\n",
        "plt.plot(history.history['val_loss'])\n",
        "plt.title('model loss')\n",
        "plt.ylabel('loss')\n",
        "plt.xlabel('epoch')\n",
        "plt.legend(['train', 'test'], loc='upper left')\n",
        "plt.show()"
      ],
      "execution_count": 0,
      "outputs": [
        {
          "output_type": "stream",
          "text": [
            "WARNING:tensorflow:The `nb_epoch` argument in `fit` has been renamed `epochs`.\n",
            "Train on 8544 samples, validate on 1101 samples\n",
            "Epoch 1/20\n",
            "8544/8544 [==============================] - 7s 827us/sample - loss: 1.7066 - acc: 0.2061 - val_loss: 1.5990 - val_acc: 0.2534\n",
            "Epoch 2/20\n",
            "8544/8544 [==============================] - 5s 626us/sample - loss: 1.6495 - acc: 0.2288 - val_loss: 1.5844 - val_acc: 0.2534\n",
            "Epoch 3/20\n",
            "8544/8544 [==============================] - 5s 623us/sample - loss: 1.6190 - acc: 0.2292 - val_loss: 1.5792 - val_acc: 0.2534\n",
            "Epoch 4/20\n",
            "8544/8544 [==============================] - 5s 619us/sample - loss: 1.5965 - acc: 0.2541 - val_loss: 1.5746 - val_acc: 0.2534\n",
            "Epoch 5/20\n",
            "8544/8544 [==============================] - 5s 638us/sample - loss: 1.5838 - acc: 0.2623 - val_loss: 1.5827 - val_acc: 0.2534\n",
            "Epoch 6/20\n",
            "8544/8544 [==============================] - 5s 620us/sample - loss: 1.5505 - acc: 0.2876 - val_loss: 1.5524 - val_acc: 0.3043\n",
            "Epoch 7/20\n",
            "8544/8544 [==============================] - 5s 627us/sample - loss: 1.4983 - acc: 0.3228 - val_loss: 1.5441 - val_acc: 0.3297\n",
            "Epoch 8/20\n",
            "8544/8544 [==============================] - 5s 618us/sample - loss: 1.4284 - acc: 0.3770 - val_loss: 1.5328 - val_acc: 0.3143\n",
            "Epoch 9/20\n",
            "8544/8544 [==============================] - 5s 619us/sample - loss: 1.3442 - acc: 0.4088 - val_loss: 1.5207 - val_acc: 0.3224\n",
            "Epoch 10/20\n",
            "8544/8544 [==============================] - 5s 615us/sample - loss: 1.2564 - acc: 0.4548 - val_loss: 1.6573 - val_acc: 0.2843\n",
            "Epoch 11/20\n",
            "8544/8544 [==============================] - 5s 615us/sample - loss: 1.1694 - acc: 0.4951 - val_loss: 1.7127 - val_acc: 0.3633\n",
            "Epoch 12/20\n",
            "8544/8544 [==============================] - 5s 625us/sample - loss: 1.0795 - acc: 0.5272 - val_loss: 1.7199 - val_acc: 0.3415\n",
            "Epoch 13/20\n",
            "8544/8544 [==============================] - 5s 618us/sample - loss: 1.0231 - acc: 0.5523 - val_loss: 1.8272 - val_acc: 0.3388\n",
            "Epoch 14/20\n",
            "8544/8544 [==============================] - 5s 618us/sample - loss: 0.9736 - acc: 0.5724 - val_loss: 1.9171 - val_acc: 0.3215\n",
            "Epoch 15/20\n",
            "8544/8544 [==============================] - 5s 612us/sample - loss: 0.9208 - acc: 0.5919 - val_loss: 2.0713 - val_acc: 0.3515\n",
            "Epoch 16/20\n",
            "8544/8544 [==============================] - 5s 631us/sample - loss: 0.8900 - acc: 0.6044 - val_loss: 2.1801 - val_acc: 0.3324\n",
            "Epoch 17/20\n",
            "8544/8544 [==============================] - 5s 629us/sample - loss: 0.8551 - acc: 0.6194 - val_loss: 2.3784 - val_acc: 0.3333\n",
            "Epoch 18/20\n",
            "8544/8544 [==============================] - 5s 639us/sample - loss: 0.8208 - acc: 0.6309 - val_loss: 2.3201 - val_acc: 0.3460\n",
            "Epoch 19/20\n",
            "8544/8544 [==============================] - 6s 660us/sample - loss: 0.7797 - acc: 0.6409 - val_loss: 2.4637 - val_acc: 0.3470\n",
            "Epoch 20/20\n",
            "8544/8544 [==============================] - 5s 641us/sample - loss: 0.7602 - acc: 0.6462 - val_loss: 2.6291 - val_acc: 0.3406\n"
          ],
          "name": "stdout"
        },
        {
          "output_type": "display_data",
          "data": {
            "image/png": "[encoded data removed]",
            "text/plain": [
              "<Figure size 432x288 with 1 Axes>"
            ]
          },
          "metadata": {
            "tags": []
          }
        },
        {
          "output_type": "display_data",
          "data": {
            "image/png": "[encoded data removed]",
            "text/plain": [
              "<Figure size 432x288 with 1 Axes>"
            ]
          },
          "metadata": {
            "tags": []
          }
        }
      ]
    },
    {
      "cell_type": "code",
      "metadata": {
        "id": "mEuMmT8bEiCG",
        "colab_type": "code",
        "colab": {}
      },
      "source": [
        "# 6 - Generate your predictions on the test set using model.predict(x_test)\n",
        "#     https://keras.io/models/model/\n",
        "#     Log your predictions in a file (one line = one integer: 0,1,2,3,4)\n",
        "#     Attach the output file \"logreg_lstm_y_test_sst.txt\" to your deliverable.\n",
        "\n",
        "predictions = model.predict(x_test).argmax(axis=1)\n",
        "\n",
        "def write_prediction(classifier_name, prediction):\n",
        "    f = open(\"{}_y_test_sst.txt\".format(classifier_name), \"w\")\n",
        "    for pred in prediction:\n",
        "        f.write(str(pred))\n",
        "        f.write('\\n')\n",
        "    f.close()\n",
        "\n",
        "write_prediction('logreg_lstm', predictions)"
      ],
      "execution_count": 0,
      "outputs": []
    },
    {
      "cell_type": "markdown",
      "metadata": {
        "id": "W-u7yKvVEiCJ",
        "colab_type": "text"
      },
      "source": [
        "## 4.3 - innovate !"
      ]
    },
    {
      "cell_type": "code",
      "metadata": {
        "id": "VTHLaxvLEiCK",
        "colab_type": "code",
        "outputId": "975072f6-68f6-4b42-d785-fa72e7bbe625",
        "colab": {
          "base_uri": "https://localhost:8080/",
          "height": 1000
        }
      },
      "source": [
        "# 7 - Open question: find a model that is better on your dev set\n",
        "#     (e.g: use a 1D ConvNet, use a better classifier, pretrain your lookup tables ..)\n",
        "#     you will get point if the results on the test set are better: be careful of not overfitting your dev set too much..\n",
        "#     Attach the output file \"XXX_XXX_y_test_sst.txt\" to your deliverable.\n",
        "\n",
        "\n",
        "word2vec = Word2Vec(en_embeddings_path, vocab_size=50000)\n",
        "sentence2vec = BagOfWords(word2vec)\n",
        "\n",
        "idf_train = sentence2vec.build_idf(sentences_train)\n",
        "idf_dev = sentence2vec.build_idf(sentences_dev)\n",
        "idf_test = sentence2vec.build_idf(sentences_test)\n",
        "\n",
        "def encode_sentences(sentences,idf=None):\n",
        "    X=[]\n",
        "    for sentence in sentences:\n",
        "        embd = sentence2vec.encode(sentence, idf)\n",
        "        X.append(embd)\n",
        "    return(np.vstack(X))\n",
        "\n",
        "\n",
        "#Encore with the weighted-average\n",
        "x_train = encode_sentences(sentences_train, idf_train)\n",
        "x_dev = encode_sentences(sentences_dev, idf_dev)\n",
        "x_test = encode_sentences(sentences_test, idf_test)\n",
        "\n",
        "model = Sequential()\n",
        "model.add(Dense(256))\n",
        "model.add(Activation(\"relu\"))\n",
        "model.add(BatchNormalization())\n",
        "model.add(Dropout(0.2))\n",
        "model.add(Dense(128))\n",
        "model.add(Activation(\"relu\"))\n",
        "model.add(BatchNormalization())\n",
        "model.add(Dropout(0.2))\n",
        "model.add(Dense(32))\n",
        "model.add(Activation(\"relu\"))\n",
        "model.add(BatchNormalization())\n",
        "model.add(Dropout(0.2))\n",
        "model.add(Dense(n_classes, activation='sigmoid'))\n",
        "\n",
        "loss_classif     =   'categorical_crossentropy' # find the right loss for multi-class classification\n",
        "optimizer        =  tf.keras.optimizers.Adam(learning_rate=0.001) # find the right optimizer\n",
        "metrics_classif  =  ['accuracy']\n",
        "\n",
        "# Observe how easy (but blackboxed) this is in Keras\n",
        "model.compile(loss=loss_classif,\n",
        "              optimizer=optimizer,\n",
        "              metrics=metrics_classif)\n",
        "\n",
        "# ADAPT CODE BELOW\n",
        "bs = 64\n",
        "n_epochs = 10\n",
        "\n",
        "history = model.fit(x_train, y_train, batch_size=bs, nb_epoch=n_epochs, validation_data=(x_dev, y_dev))\n",
        "\n",
        "# summarize history for accuracy\n",
        "plt.plot(history.history['acc'])\n",
        "plt.plot(history.history['val_acc'])\n",
        "plt.title('model accuracy')\n",
        "plt.ylabel('accuracy')\n",
        "plt.xlabel('epoch')\n",
        "plt.legend(['train', 'test'], loc='upper left')\n",
        "plt.show()\n",
        "# summarize history for loss\n",
        "plt.plot(history.history['loss'])\n",
        "plt.plot(history.history['val_loss'])\n",
        "plt.title('model loss')\n",
        "plt.ylabel('loss')\n",
        "plt.xlabel('epoch')\n",
        "plt.legend(['train', 'test'], loc='upper left')\n",
        "\n",
        "\n",
        "predictions = model.predict(x_test).argmax(axis=1)\n",
        "\n",
        "def write_prediction(classifier_name, prediction):\n",
        "    f = open(\"{}_y_test_sst.txt\".format(classifier_name), \"w\")\n",
        "    for pred in prediction:\n",
        "        f.write(str(pred))\n",
        "        f.write('\\n')\n",
        "    f.close()\n",
        "\n",
        "write_prediction('word2vec_dense', predictions)\n"
      ],
      "execution_count": 0,
      "outputs": [
        {
          "output_type": "stream",
          "text": [
            "\r  0%|          | 0/8544 [00:00<?, ?it/s]"
          ],
          "name": "stderr"
        },
        {
          "output_type": "stream",
          "text": [
            "Loaded 50000 pretrained word vectors\n"
          ],
          "name": "stdout"
        },
        {
          "output_type": "stream",
          "text": [
            "100%|██████████| 8544/8544 [00:00<00:00, 149494.12it/s]\n",
            "100%|██████████| 16581/16581 [00:00<00:00, 494175.09it/s]\n",
            "100%|██████████| 1101/1101 [00:00<00:00, 149066.42it/s]\n",
            "100%|██████████| 5038/5038 [00:00<00:00, 521853.79it/s]\n",
            "100%|██████████| 2210/2210 [00:00<00:00, 170512.71it/s]\n",
            "100%|██████████| 7929/7929 [00:00<00:00, 553649.80it/s]\n"
          ],
          "name": "stderr"
        },
        {
          "output_type": "stream",
          "text": [
            "WARNING:tensorflow:The `nb_epoch` argument in `fit` has been renamed `epochs`.\n",
            "Train on 8544 samples, validate on 1101 samples\n",
            "Epoch 1/10\n",
            "8544/8544 [==============================] - 2s 273us/sample - loss: 1.5576 - acc: 0.3048 - val_loss: 1.5252 - val_acc: 0.3006\n",
            "Epoch 2/10\n",
            "8544/8544 [==============================] - 1s 97us/sample - loss: 1.3833 - acc: 0.3851 - val_loss: 1.4251 - val_acc: 0.3560\n",
            "Epoch 3/10\n",
            "8544/8544 [==============================] - 1s 100us/sample - loss: 1.3371 - acc: 0.4102 - val_loss: 1.3625 - val_acc: 0.4078\n",
            "Epoch 4/10\n",
            "8544/8544 [==============================] - 1s 97us/sample - loss: 1.3030 - acc: 0.4235 - val_loss: 1.3433 - val_acc: 0.4005\n",
            "Epoch 5/10\n",
            "8544/8544 [==============================] - 1s 98us/sample - loss: 1.2757 - acc: 0.4364 - val_loss: 1.3496 - val_acc: 0.4151\n",
            "Epoch 6/10\n",
            "8544/8544 [==============================] - 1s 102us/sample - loss: 1.2574 - acc: 0.4449 - val_loss: 1.3399 - val_acc: 0.4015\n",
            "Epoch 7/10\n",
            "8544/8544 [==============================] - 1s 100us/sample - loss: 1.2231 - acc: 0.4607 - val_loss: 1.3577 - val_acc: 0.4105\n",
            "Epoch 8/10\n",
            "8544/8544 [==============================] - 1s 100us/sample - loss: 1.2084 - acc: 0.4610 - val_loss: 1.3684 - val_acc: 0.4051\n",
            "Epoch 9/10\n",
            "8544/8544 [==============================] - 1s 98us/sample - loss: 1.1829 - acc: 0.4740 - val_loss: 1.3722 - val_acc: 0.4187\n",
            "Epoch 10/10\n",
            "8544/8544 [==============================] - 1s 98us/sample - loss: 1.1636 - acc: 0.4819 - val_loss: 1.4087 - val_acc: 0.4069\n"
          ],
          "name": "stdout"
        },
        {
          "output_type": "display_data",
          "data": {
            "image/png": "[encoded data removed]",
            "text/plain": [
              "<Figure size 432x288 with 1 Axes>"
            ]
          },
          "metadata": {
            "tags": []
          }
        },
        {
          "output_type": "display_data",
          "data": {
            "image/png": "[encoded data removed]",
            "text/plain": [
              "<Figure size 432x288 with 1 Axes>"
            ]
          },
          "metadata": {
            "tags": []
          }
        }
      ]
    }
  ]
}