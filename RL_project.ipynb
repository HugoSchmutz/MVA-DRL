{
  "nbformat": 4,
  "nbformat_minor": 0,
  "metadata": {
    "kernelspec": {
      "name": "python3",
      "display_name": "Python 3"
    },
    "language_info": {
      "codemirror_mode": {
        "name": "ipython",
        "version": 3
      },
      "file_extension": ".py",
      "mimetype": "text/x-python",
      "name": "python",
      "nbconvert_exporter": "python",
      "pygments_lexer": "ipython3",
      "version": "3.5.7"
    },
    "colab": {
      "name": "RL_project.ipynb",
      "provenance": [],
      "collapsed_sections": []
    },
    "accelerator": "GPU"
  },
  "cells": [
    {
      "cell_type": "markdown",
      "metadata": {
        "id": "HDZPX3kTH8hk",
        "colab_type": "text"
      },
      "source": [
        "**You may need to install [OpenCV](https://pypi.python.org/pypi/opencv-python) and [scikit-video](http://www.scikit-video.org/stable/).**"
      ]
    },
    {
      "cell_type": "code",
      "metadata": {
        "id": "BhaE5RCBH8hs",
        "colab_type": "code",
        "outputId": "42798f72-d128-4cbf-af8d-2af869fb036e",
        "colab": {
          "base_uri": "https://localhost:8080/",
          "height": 199
        }
      },
      "source": [
        "import keras\n",
        "import numpy as np\n",
        "import io\n",
        "import base64\n",
        "from IPython.display import HTML\n",
        "!pip install sk-video\n",
        "import skvideo.io\n",
        "import cv2\n",
        "import json\n",
        "\n",
        "from keras.models import Sequential,model_from_json\n",
        "from keras.layers.core import Dense\n",
        "from keras.optimizers import sgd\n",
        "from keras.layers import Conv2D, MaxPooling2D, Activation, AveragePooling2D,Reshape,BatchNormalization\n"
      ],
      "execution_count": 1,
      "outputs": [
        {
          "output_type": "stream",
          "text": [
            "Using TensorFlow backend.\n"
          ],
          "name": "stderr"
        },
        {
          "output_type": "display_data",
          "data": {
            "text/html": [
              "<p style=\"color: red;\">\n",
              "The default version of TensorFlow in Colab will soon switch to TensorFlow 2.x.<br>\n",
              "We recommend you <a href=\"https://www.tensorflow.org/guide/migrate\" target=\"_blank\">upgrade</a> now \n",
              "or ensure your notebook will continue to use TensorFlow 1.x via the <code>%tensorflow_version 1.x</code> magic:\n",
              "<a href=\"https://colab.research.google.com/notebooks/tensorflow_version.ipynb\" target=\"_blank\">more info</a>.</p>\n"
            ],
            "text/plain": [
              "<IPython.core.display.HTML object>"
            ]
          },
          "metadata": {
            "tags": []
          }
        },
        {
          "output_type": "stream",
          "text": [
            "Collecting sk-video\n",
            "\u001b[?25l  Downloading https://files.pythonhosted.org/packages/dd/3f/ce848b8b2062ad1ccf1449094a740c775f6c761339f411e44f1e090f23a7/sk_video-1.1.10-py2.py3-none-any.whl (2.3MB)\n",
            "\u001b[K     |████████████████████████████████| 2.3MB 5.0MB/s \n",
            "\u001b[?25hRequirement already satisfied: scipy in /usr/local/lib/python3.6/dist-packages (from sk-video) (1.4.1)\n",
            "Requirement already satisfied: numpy in /usr/local/lib/python3.6/dist-packages (from sk-video) (1.17.5)\n",
            "Installing collected packages: sk-video\n",
            "Successfully installed sk-video-1.1.10\n"
          ],
          "name": "stdout"
        }
      ]
    },
    {
      "cell_type": "markdown",
      "metadata": {
        "id": "c79pmPGFH8h6",
        "colab_type": "text"
      },
      "source": [
        "# MiniProject on Deep Reinforcement Learning"
      ]
    },
    {
      "cell_type": "markdown",
      "metadata": {
        "id": "RTRidDr0H8h-",
        "colab_type": "text"
      },
      "source": [
        "__Notations__: $E_p$ is the expectation under probability $p$. Please justify each of your answer and widely comment your code."
      ]
    },
    {
      "cell_type": "markdown",
      "metadata": {
        "id": "9VAJeJGHH8iB",
        "colab_type": "text"
      },
      "source": [
        "# Context"
      ]
    },
    {
      "cell_type": "markdown",
      "metadata": {
        "id": "jztlZtbYH8iE",
        "colab_type": "text"
      },
      "source": [
        "In a reinforcement learning algorithm, we modelize each step $t$ as an action $a_t$ obtained from a state $s_t$, i.e. $\\{(a_{t},s_{t})_{t\\leq T}\\}$ having the Markov property. We consider a discount factor $\\gamma \\in [0,1]$ that ensures convergence. The goal is to find among all the policies $\\pi$, one that maximizes the expected reward:\n",
        "\n",
        "\\begin{equation*}\n",
        "R(\\pi)=\\sum_{t\\leq T}E_{p^{\\pi}}[\\gamma^t r(s_{t},a_{t})] \\> ,\n",
        "\\end{equation*}\n",
        "\n",
        "where: \n",
        "\\begin{equation*}p^{\\pi}(a_{0},a_{1},s_{1},...,a_{T},s_{T})=p(a_{0})\\prod_{t=1}^{T}\\pi(a_{t}|s_{t})p(s_{t+1}|s_{t},a_{t}) \\> .\n",
        "\\end{equation*}\n",
        "\n",
        "We note the $Q$-function:\n",
        "\n",
        "\\begin{equation*}Q^\\pi(s,a)=E_{p^{\\pi}}[\\sum_{t\\leq T}\\gamma^{t}r(s_{t},a_{t})|s_{0}=s,a_{0}=a] \\> .\n",
        "\\end{equation*}\n",
        "\n",
        "Thus, the optimal Q function is:\n",
        "\\begin{equation*}\n",
        "Q^*(s,a)=\\max_{\\pi}Q^\\pi(s,a) \\> .\n",
        "\\end{equation*}\n",
        "\n",
        "In this project, we will apply the deep reinforcement learning techniques to a simple game: an agent will have to learn from scratch a policy that will permit it maximizing a reward."
      ]
    },
    {
      "cell_type": "markdown",
      "metadata": {
        "id": "1K9TP4vZH8iJ",
        "colab_type": "text"
      },
      "source": [
        "## The environment, the agent and the game"
      ]
    },
    {
      "cell_type": "markdown",
      "metadata": {
        "id": "ZMhwp03EH8iL",
        "colab_type": "text"
      },
      "source": [
        "### The environment"
      ]
    },
    {
      "cell_type": "markdown",
      "metadata": {
        "id": "7Qj7dxBfH8iN",
        "colab_type": "text"
      },
      "source": [
        "```Environment``` is an abstract class that represents the states, rewards, and actions to obtain the new state."
      ]
    },
    {
      "cell_type": "code",
      "metadata": {
        "id": "9naXcFQRH8iP",
        "colab_type": "code",
        "colab": {}
      },
      "source": [
        "class Environment(object):\n",
        "    def __init__(self):\n",
        "        pass\n",
        "\n",
        "    def act(self, act):\n",
        "        \"\"\"\n",
        "        One can act on the environment and obtain its reaction:\n",
        "        - the new state\n",
        "        - the reward of the new state\n",
        "        - should we continue the game?\n",
        "\n",
        "        :return: state, reward, game_over\n",
        "        \"\"\"\n",
        "        pass\n",
        "\n",
        "\n",
        "    def reset(self):\n",
        "        \"\"\"\n",
        "        Reinitialize the environment to a random state and returns\n",
        "        the original state\n",
        "\n",
        "        :return: state\n",
        "        \"\"\"\n",
        "        pass\n",
        "    \n",
        "    def draw(self):\n",
        "        \"\"\"\n",
        "        Visualize in the console or graphically the current state\n",
        "        \"\"\"\n",
        "        pass"
      ],
      "execution_count": 0,
      "outputs": []
    },
    {
      "cell_type": "markdown",
      "metadata": {
        "id": "xWcrcU4dH8id",
        "colab_type": "text"
      },
      "source": [
        "The method ```act``` allows to act on the environment at a given state $s_t$ (stored internally), via action $a_t$. The method will return the new state $s_{t+1}$, the reward $r(s_{t},a_{t})$ and determines if $t\\leq T$ (*game_over*).\n",
        "\n",
        "The method ```reset``` simply reinitializes the environment to a random state $s_0$.\n",
        "\n",
        "The method ```draw``` displays the current state $s_t$ (this is useful to check the behavior of the Agent).\n",
        "\n",
        "We modelize $s_t$ as a tensor, while $a_t$ is an integer."
      ]
    },
    {
      "cell_type": "markdown",
      "metadata": {
        "id": "61R7H92SH8if",
        "colab_type": "text"
      },
      "source": [
        "### The Agent"
      ]
    },
    {
      "cell_type": "markdown",
      "metadata": {
        "id": "sMhQJdvOH8ih",
        "colab_type": "text"
      },
      "source": [
        "The goal of the ```Agent``` is to interact with the ```Environment``` by proposing actions $a_t$ obtained from a given state $s_t$ to attempt to maximize its __reward__ $r(s_t,a_t)$. We propose the following abstract class:"
      ]
    },
    {
      "cell_type": "code",
      "metadata": {
        "id": "9pzS_NF0H8il",
        "colab_type": "code",
        "colab": {}
      },
      "source": [
        "class Agent(object):\n",
        "    def __init__(self, epsilon=0.1, n_action=4):\n",
        "        self.epsilon = epsilon\n",
        "        self.n_action = n_action\n",
        "    \n",
        "    def set_epsilon(self,e):\n",
        "        self.epsilon = e\n",
        "\n",
        "    def act(self,s,train=True):\n",
        "        \"\"\" This function should return the next action to do:\n",
        "        an integer between 0 and 4 (not included) with a random exploration of epsilon\"\"\"\n",
        "        if train:\n",
        "            if np.random.rand() <= self.epsilon:\n",
        "                a = np.random.randint(0, self.n_action, size=1)[0]\n",
        "            else:\n",
        "                a = self.learned_act(s)\n",
        "        else: # in some cases, this can improve the performance.. remove it if poor performances\n",
        "            a = self.learned_act(s)\n",
        "\n",
        "        return a\n",
        "\n",
        "    def learned_act(self,s):\n",
        "        \"\"\" Act via the policy of the agent, from a given state s\n",
        "        it proposes an action a\"\"\"\n",
        "        pass\n",
        "\n",
        "    def reinforce(self, s, n_s, a, r, game_over_):\n",
        "        \"\"\" This function is the core of the learning algorithm. \n",
        "        It takes as an input the current state s_, the next state n_s_\n",
        "        the action a_ used to move from s_ to n_s_ and the reward r_.\n",
        "        \n",
        "        Its goal is to learn a policy.\n",
        "        \"\"\"\n",
        "        pass\n",
        "\n",
        "    def save(self):\n",
        "        \"\"\" This function returns basic stats if applicable: the\n",
        "        loss and/or the model\"\"\"\n",
        "        pass\n",
        "\n",
        "    def load(self):\n",
        "        \"\"\" This function allows to restore a model\"\"\"\n",
        "        pass"
      ],
      "execution_count": 0,
      "outputs": []
    },
    {
      "cell_type": "markdown",
      "metadata": {
        "id": "qhpUIFGfH8iv",
        "colab_type": "text"
      },
      "source": [
        "***\n",
        "__Question 1__:\n",
        "Explain the function act. Why is ```epsilon``` essential?"
      ]
    },
    {
      "cell_type": "markdown",
      "metadata": {
        "id": "bPi5ATj8H8ix",
        "colab_type": "text"
      },
      "source": [
        "The $\\epsilon$ -greedy policy is one of the solutions to the exploration-exploitation dilemna: The environment does not reveal the reward of the actions not selected yet so the learner should gain information by repeatdly selecting all actions (exploration). But, whenever the learner selects a \"bad\" action, it suffers a \"bad\" reward: so the learner should reduce the regret by repeatdly selecting the best action (exploitation).\n",
        "\n",
        "Using the $\\epsilon$ -greedy policy we can select random action with $\\epsilon$ probability and we can select an action with $1-\\epsilon$ probability that gives maximum reward in given state. \n"
      ]
    },
    {
      "cell_type": "markdown",
      "metadata": {
        "id": "9yZqZE82H8i1",
        "colab_type": "text"
      },
      "source": [
        "***\n",
        "### The Game"
      ]
    },
    {
      "cell_type": "markdown",
      "metadata": {
        "id": "E4RzDH6sH8i4",
        "colab_type": "text"
      },
      "source": [
        "The ```Agent``` and the ```Environment``` work in an interlaced way as in the following (take some time to understand this code as it is the core of the project)\n",
        "\n",
        "```python\n",
        "\n",
        "epoch = 300\n",
        "env = Environment()\n",
        "agent = Agent()\n",
        "\n",
        "\n",
        "# Number of won games\n",
        "score = 0\n",
        "loss = 0\n",
        "\n",
        "\n",
        "for e in range(epoch):\n",
        "    # At each epoch, we restart to a fresh game and get the initial state\n",
        "    state = env.reset()\n",
        "    # This assumes that the games will end\n",
        "    game_over = False\n",
        "\n",
        "    win = 0\n",
        "    lose = 0\n",
        "    \n",
        "    while not game_over:\n",
        "        # The agent performs an action\n",
        "        action = agent.act(state)\n",
        "\n",
        "        # Apply an action to the environment, get the next state, the reward\n",
        "        # and if the games end\n",
        "        prev_state = state\n",
        "        state, reward, game_over = env.act(action)\n",
        "\n",
        "        # Update the counters\n",
        "        if reward > 0:\n",
        "            win = win + reward\n",
        "        if reward < 0:\n",
        "            lose = lose -reward\n",
        "\n",
        "        # Apply the reinforcement strategy\n",
        "        loss = agent.reinforce(prev_state, state,  action, reward, game_over)\n",
        "\n",
        "    # Save as a mp4\n",
        "    if e % 10 == 0:\n",
        "        env.draw(e)\n",
        "\n",
        "    # Update stats\n",
        "    score += win-lose\n",
        "\n",
        "    print(\"Epoch {:03d}/{:03d} | Loss {:.4f} | Win/lose count {}/{} ({})\"\n",
        "          .format(e, epoch, loss, win, lose, win-lose))\n",
        "    agent.save()\n",
        "```"
      ]
    },
    {
      "cell_type": "markdown",
      "metadata": {
        "id": "GUgW7yeOH8i7",
        "colab_type": "text"
      },
      "source": [
        "# The game, *eat cheese*"
      ]
    },
    {
      "cell_type": "markdown",
      "metadata": {
        "id": "5aBTJae9H8i9",
        "colab_type": "text"
      },
      "source": [
        "A rat runs on an island and tries to eat as much as possible. The island is subdivided into $N\\times N$ cells, in which there are cheese (+0.5) and poisonous cells (-1). The rat has a visibility of 2 cells (thus it can see $5^2$ cells). The rat is given a time $T$ to accumulate as much food as possible. It can perform 4 actions: going up, down, left, right. \n",
        "\n",
        "The goal is to code an agent to solve this task that will learn by trial and error. We propose the following environment:"
      ]
    },
    {
      "cell_type": "code",
      "metadata": {
        "id": "LCmQpAUTH8i_",
        "colab_type": "code",
        "colab": {}
      },
      "source": [
        "class Environment(object):\n",
        "    def __init__(self, grid_size=10, max_time=500, temperature=0.1):\n",
        "        grid_size = grid_size+4\n",
        "        self.grid_size = grid_size\n",
        "        self.max_time = max_time\n",
        "        self.temperature = temperature\n",
        "\n",
        "        #board on which one plays\n",
        "        self.board = np.zeros((grid_size,grid_size))\n",
        "        self.position = np.zeros((grid_size,grid_size))\n",
        "\n",
        "        # coordinate of the cat\n",
        "        self.x = 0\n",
        "        self.y = 1\n",
        "\n",
        "        # self time\n",
        "        self.t = 0\n",
        "\n",
        "        self.scale=16\n",
        "\n",
        "        self.to_draw = np.zeros((max_time+2, grid_size*self.scale, grid_size*self.scale, 3))\n",
        "\n",
        "\n",
        "    def draw(self,e):\n",
        "        skvideo.io.vwrite(str(e) + '.mp4', self.to_draw)\n",
        "\n",
        "    def get_frame(self,t):\n",
        "        b = np.zeros((self.grid_size,self.grid_size,3))+128\n",
        "        b[self.board>0,0] = 256\n",
        "        b[self.board < 0, 2] = 256\n",
        "        b[self.x,self.y,:]=256\n",
        "        b[-2:,:,:]=0\n",
        "        b[:,-2:,:]=0\n",
        "        b[:2,:,:]=0\n",
        "        b[:,:2,:]=0\n",
        "        \n",
        "        b =  cv2.resize(b, None, fx=self.scale, fy=self.scale, interpolation=cv2.INTER_NEAREST)\n",
        "\n",
        "        self.to_draw[t,:,:,:]=b\n",
        "\n",
        "\n",
        "    def act(self, action):\n",
        "        \"\"\"This function returns the new state, reward and decides if the\n",
        "        game ends.\"\"\"\n",
        "\n",
        "        self.get_frame(int(self.t))\n",
        "\n",
        "        self.position = np.zeros((self.grid_size, self.grid_size))\n",
        "\n",
        "        self.position[0:2,:]= -1\n",
        "        self.position[:,0:2] = -1\n",
        "        self.position[-2:, :] = -1\n",
        "        self.position[:, -2:] = -1\n",
        "\n",
        "        self.position[self.x, self.y] = 1\n",
        "        if action == 0:\n",
        "            if self.x == self.grid_size-3:\n",
        "                self.x = self.x-1\n",
        "            else:\n",
        "                self.x = self.x + 1\n",
        "        elif action == 1:\n",
        "            if self.x == 2:\n",
        "                self.x = self.x+1\n",
        "            else:\n",
        "                self.x = self.x-1\n",
        "        elif action == 2:\n",
        "            if self.y == self.grid_size - 3:\n",
        "                self.y = self.y - 1\n",
        "            else:\n",
        "                self.y = self.y + 1\n",
        "        elif action == 3:\n",
        "            if self.y == 2:\n",
        "                self.y = self.y + 1\n",
        "            else:\n",
        "                self.y = self.y - 1\n",
        "        else:\n",
        "            RuntimeError('Error: action not recognized')\n",
        "\n",
        "        self.t = self.t + 1\n",
        "        reward = self.board[self.x, self.y]\n",
        "        self.board[self.x, self.y] = 0\n",
        "        game_over = self.t > self.max_time\n",
        "        state = np.concatenate((self.board.reshape(self.grid_size, self.grid_size,1),\n",
        "                        self.position.reshape(self.grid_size, self.grid_size,1)),axis=2)\n",
        "        state = state[self.x-2:self.x+3,self.y-2:self.y+3,:]\n",
        "\n",
        "        return state, reward, game_over\n",
        "\n",
        "    def reset(self):\n",
        "        \"\"\"This function resets the game and returns the initial state\"\"\"\n",
        "\n",
        "        self.x = np.random.randint(3, self.grid_size-3, size=1)[0]\n",
        "        self.y = np.random.randint(3, self.grid_size-3, size=1)[0]\n",
        "\n",
        "\n",
        "        bonus = 0.5*np.random.binomial(1,self.temperature,size=self.grid_size**2)\n",
        "        bonus = bonus.reshape(self.grid_size,self.grid_size)\n",
        "\n",
        "        malus = -1.0*np.random.binomial(1,self.temperature,size=self.grid_size**2)\n",
        "        malus = malus.reshape(self.grid_size, self.grid_size)\n",
        "\n",
        "        self.to_draw = np.zeros((self.max_time+2, self.grid_size*self.scale, self.grid_size*self.scale, 3))\n",
        "\n",
        "\n",
        "        malus[bonus>0]=0\n",
        "\n",
        "        self.board = bonus + malus\n",
        "\n",
        "        self.position = np.zeros((self.grid_size, self.grid_size))\n",
        "        self.position[0:2,:]= -1\n",
        "        self.position[:,0:2] = -1\n",
        "        self.position[-2:, :] = -1\n",
        "        self.position[:, -2:] = -1\n",
        "        self.board[self.x,self.y] = 0\n",
        "        self.t = 0\n",
        "\n",
        "        state = np.concatenate((\n",
        "                               self.board.reshape(self.grid_size, self.grid_size,1),\n",
        "                        self.position.reshape(self.grid_size, self.grid_size,1)),axis=2)\n",
        "\n",
        "        state = state[self.x - 2:self.x + 3, self.y - 2:self.y + 3, :]\n",
        "        return state"
      ],
      "execution_count": 0,
      "outputs": []
    },
    {
      "cell_type": "markdown",
      "metadata": {
        "id": "DoT5B1-HH8jH",
        "colab_type": "text"
      },
      "source": [
        "The following elements are important because they correspond to the hyper parameters for this project:"
      ]
    },
    {
      "cell_type": "code",
      "metadata": {
        "id": "ZDtx9p17H8jL",
        "colab_type": "code",
        "colab": {}
      },
      "source": [
        "# parameters\n",
        "size = 13\n",
        "T=200\n",
        "temperature=0.3\n",
        "epochs_train=100 # set small when debugging\n",
        "epochs_test=20 # set small when debugging\n",
        "\n",
        "# display videos\n",
        "def display_videos(name):\n",
        "    video = io.open(name, 'r+b').read()\n",
        "    encoded = base64.b64encode(video)\n",
        "    return '''<video alt=\"test\" controls>\n",
        "                <source src=\"data:video/mp4;base64,{0}\" type=\"video/mp4\" />\n",
        "             </video>'''.format(encoded.decode('ascii'))\n",
        "\n"
      ],
      "execution_count": 0,
      "outputs": []
    },
    {
      "cell_type": "markdown",
      "metadata": {
        "id": "OPt7jSq9H8jX",
        "colab_type": "text"
      },
      "source": [
        "__Question 2__ Explain the use of the arrays ```position``` and ```board```."
      ]
    },
    {
      "cell_type": "markdown",
      "metadata": {
        "id": "bYOZI-VzH8ja",
        "colab_type": "text"
      },
      "source": [
        "The array position is used as an histogram of all the position already visited. \n",
        "The array board is the current state of the board game. (i.e. where are cheese and poisons)."
      ]
    },
    {
      "cell_type": "markdown",
      "metadata": {
        "id": "JBYtelaqH8jc",
        "colab_type": "text"
      },
      "source": [
        "## Random Agent"
      ]
    },
    {
      "cell_type": "markdown",
      "metadata": {
        "id": "ZS-iXkFbH8je",
        "colab_type": "text"
      },
      "source": [
        "***\n",
        "__Question 3__ Implement a random Agent (only ```learned_act``` needs to be implemented):"
      ]
    },
    {
      "cell_type": "code",
      "metadata": {
        "id": "JgmjBtz5H8jf",
        "colab_type": "code",
        "colab": {}
      },
      "source": [
        "class RandomAgent(Agent):\n",
        "    def __init__(self):\n",
        "        super(RandomAgent, self).__init__()\n",
        "        pass\n",
        "\n",
        "    def learned_act(self, s):\n",
        "        \"\"\" Act via the policy of the agent, from a given state s\n",
        "        it proposes a RANDOM action a\"\"\"\n",
        "        return(np.random.randint(4))"
      ],
      "execution_count": 0,
      "outputs": []
    },
    {
      "cell_type": "markdown",
      "metadata": {
        "id": "yZvvgKskH8jo",
        "colab_type": "text"
      },
      "source": [
        "***\n",
        "***\n",
        "__Question 4__ Visualize the game moves. You need to fill in the following function for the evaluation:"
      ]
    },
    {
      "cell_type": "code",
      "metadata": {
        "id": "wpqmEDfpH8jq",
        "colab_type": "code",
        "colab": {}
      },
      "source": [
        "def test(agent,env,epochs,prefix=''):\n",
        "    # Number of won games\n",
        "    score = 0\n",
        "        \n",
        "    for e in range(epochs):\n",
        "        \n",
        "        # At each epoch, we restart to a fresh game and get the initial state\n",
        "        state = env.reset()\n",
        "        # This assumes that the games will end\n",
        "        game_over = False\n",
        "    \n",
        "        win = 0\n",
        "        lose = 0\n",
        "    \n",
        "        while not game_over:\n",
        "            # The agent performs an action\n",
        "            action = agent.learned_act(state)\n",
        "    \n",
        "            # Apply an action to the environment, get the next state, the reward\n",
        "            # and if the games end\n",
        "            prev_state = state\n",
        "            state, reward, game_over = env.act(action)\n",
        "    \n",
        "            # Update the counters\n",
        "            if reward > 0:\n",
        "                win = win + reward\n",
        "            if reward < 0:\n",
        "                lose = lose -reward\n",
        "    \n",
        "            # Apply the reinforcement strategy\n",
        "            loss = agent.reinforce(prev_state, state,  action, reward, game_over)\n",
        "    \n",
        "        # Save as a mp4\n",
        "        if e % 10 == 0:\n",
        "            env.draw(e)\n",
        "    \n",
        "        # Update stats\n",
        "        score += win-lose   \n",
        "        # Save as a mp4\n",
        "        env.draw(prefix+str(e))\n",
        "\n",
        "        # Update stats\n",
        "        score = score + win-lose\n",
        "\n",
        "        print(\"Win/lose count {}/{}. Average score ({})\"\n",
        "              .format(win, lose, score/(1+e)))\n",
        "    print('Final score: '+str(score/epochs))"
      ],
      "execution_count": 0,
      "outputs": []
    },
    {
      "cell_type": "code",
      "metadata": {
        "id": "59kLzRAKH8jw",
        "colab_type": "code",
        "outputId": "d0e0e782-983f-4928-c658-67e022b6bf33",
        "colab": {
          "base_uri": "https://localhost:8080/",
          "height": 650
        }
      },
      "source": [
        "# Initialize the game\n",
        "env = Environment(grid_size=size, max_time=T,temperature=temperature)\n",
        "\n",
        "# Initialize the agent!\n",
        "agent = RandomAgent()\n",
        "\n",
        "test(agent,env,epochs_test,prefix='random')\n",
        "HTML(display_videos('random0.mp4'))"
      ],
      "execution_count": 9,
      "outputs": [
        {
          "output_type": "stream",
          "text": [
            "Win/lose count 10.5/13.0. Average score (-5.0)\n",
            "Win/lose count 4.0/15.0. Average score (-13.5)\n",
            "Win/lose count 12.5/23.0. Average score (-16.0)\n",
            "Win/lose count 13.0/14.0. Average score (-12.5)\n",
            "Win/lose count 9.0/9.0. Average score (-10.0)\n",
            "Win/lose count 12.0/13.0. Average score (-8.666666666666666)\n",
            "Win/lose count 10.0/10.0. Average score (-7.428571428571429)\n",
            "Win/lose count 10.0/11.0. Average score (-6.75)\n",
            "Win/lose count 10.5/13.0. Average score (-6.555555555555555)\n",
            "Win/lose count 10.0/14.0. Average score (-6.7)\n",
            "Win/lose count 6.0/9.0. Average score (-6.636363636363637)\n",
            "Win/lose count 10.0/21.0. Average score (-7.916666666666667)\n",
            "Win/lose count 11.0/18.0. Average score (-8.384615384615385)\n",
            "Win/lose count 9.0/16.0. Average score (-8.785714285714286)\n",
            "Win/lose count 14.5/25.0. Average score (-9.6)\n",
            "Win/lose count 6.0/6.0. Average score (-9.0)\n",
            "Win/lose count 8.5/11.0. Average score (-8.764705882352942)\n",
            "Win/lose count 8.0/10.0. Average score (-8.5)\n",
            "Win/lose count 14.0/20.0. Average score (-8.68421052631579)\n",
            "Win/lose count 12.5/8.0. Average score (-7.8)\n",
            "Final score: -7.8\n"
          ],
          "name": "stdout"
        },
        {
          "output_type": "execute_result",
          "data": {
            "text/html": [
              "<video alt=\"test\" controls>\n",
              "                <source src=\"data:video/mp4;base64,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\" type=\"video/mp4\" />\n",
              "             </video>"
            ],
            "text/plain": [
              "<IPython.core.display.HTML object>"
            ]
          },
          "metadata": {
            "tags": []
          },
          "execution_count": 9
        }
      ]
    },
    {
      "cell_type": "markdown",
      "metadata": {
        "id": "nvkXEmpWH8j6",
        "colab_type": "text"
      },
      "source": [
        "***\n",
        "## DQN"
      ]
    },
    {
      "cell_type": "markdown",
      "metadata": {
        "id": "WFTmZ4FrH8j8",
        "colab_type": "text"
      },
      "source": [
        "Let us assume here that $T=\\infty$.\n",
        "\n",
        "***\n",
        "__Question 5__ Let $\\pi$ be a policy, show that:\n",
        "\n",
        "\\begin{equation*}\n",
        "Q^{\\pi}(s,a)=E_{(s',a')\\sim p(.|s,a)}[r(s,a)+\\gamma Q^{\\pi}(s',a')]\n",
        "\\end{equation*}\n",
        "\n",
        "Then, show that for the optimal policy $\\pi^*$ (we assume its existence), the following holds: \n",
        "\n",
        "\\begin{equation*}\n",
        "Q^{*}(s,a)=E_{s'\\sim \\pi^*(.|s,a)}[r(s,a)+\\gamma\\max_{a'}Q^{*}(s',a')].\n",
        "\\end{equation*}\n",
        "Finally, deduce that a plausible objective is:\n",
        "\n",
        "\\begin{equation*}\n",
        "\\mathcal{L}(\\theta)=E_{s' \\sim \\pi^*(.|s,a)}\\Vert r+\\gamma\\max\\max_{a'}Q(s',a',\\theta)-Q(s,a,\\theta)\\Vert^{2}.\n",
        "\\end{equation*}\n",
        "\n",
        "\n"
      ]
    },
    {
      "cell_type": "markdown",
      "metadata": {
        "id": "mXUiMuUaH8j9",
        "colab_type": "text"
      },
      "source": [
        "We note the $Q$-function:\n",
        "\n",
        "\\begin{equation*}Q^\\pi(s,a)=E_{p^{\\pi}}[\\sum_{t=0}^{\\infty}\\gamma^{t}r(s_{t},a_{t})|s_{0}=s,a_{0}=a] \\> .\n",
        "\\end{equation*}\n",
        "\n",
        "Then:\n",
        "\\begin{equation*}Q^\\pi(s,a)=r(s,a) + E_{p^{\\pi}}[\\sum_{t=1}^{\\infty}\\gamma^{t}r(s_{t},a_{t})|s_{0}=s,a_{0}=a] \\> \n",
        "\\end{equation*}\n",
        "\\begin{equation*}Q^\\pi(s,a)=r(s,a) +\\gamma\\sum_{s',a'}P(s_1=s', a_1=a' |s_0=s, a_0=a) E_{p^{\\pi}}[\\sum_{t=1}^{\\infty}\\gamma^{t-1}r(s_{t},a_{t})|s_{1}=s',a_{1}=a'] \\> \n",
        "\\end{equation*}\n",
        "Using Markov property and change of time:\n",
        "\\begin{equation*}Q^\\pi(s,a)=r(s,a) +\\gamma\\sum_{s',a'}p(s',a' |s, a) E_{p^{\\pi}}[\\sum_{t=1}^{\\infty}\\gamma^{t'}r(s_{t'},a_{t'})|s_{0}=s',a_{0}=a'] \\> \n",
        "\\end{equation*}\n",
        "\n",
        "\\begin{equation*}Q^\\pi(s,a)=r(s,a) +\\gamma\\sum_{s',a'}p(s',a' |s, a) Q^\\pi(s',a') \\> \n",
        "\\end{equation*}\n",
        "\n",
        "Finally,\n",
        "\n",
        "\\begin{equation*}\n",
        "Q^{\\pi}(s,a)=E_{(s',a')\\sim p(.|s,a)}[r(s,a)+\\gamma Q^{\\pi}(s',a')]\n",
        "\\end{equation*}\n",
        "\n",
        "---------------------------------------\n",
        "We have, \n",
        "\\begin{equation*}\n",
        "Q^\\pi(s,a)=r(s,a) +\\gamma\\sum_{s',a'}\\pi(a'|s')p(s'|s,a) Q^\\pi(s',a') \\> \n",
        "\\end{equation*}\n",
        "So,\n",
        "\\begin{equation*}\n",
        "Q^\\pi(s,a)=r(s,a) +\\gamma\\sum_{s'}p(s'|s,a) \\sum_{a'}\\pi(a'|s')Q^\\pi(s',a') \\> \n",
        "\\end{equation*}\n",
        "\n",
        "The optimal Q function is:\n",
        "\\begin{equation*}\n",
        "Q^*(s,a)=\\max_{\\pi}Q^\\pi(s,a)\n",
        "\\end{equation*}\n",
        "For any $\\pi$, we can decompose: $\\pi = (a', \\pi')$\n",
        "\\begin{equation*}\n",
        "Q^*(s,a)= r(s,a) +\\gamma \\sum_{s'}p(s'|s,a) \\max_{a',\\pi'}\\sum_{a'}\\pi(a'|s') Q^{\\pi'}(s',a')\\> \n",
        "\\end{equation*}\n",
        "\n",
        "As we have,\n",
        "\\begin{equation*}\n",
        "\\max_{\\pi'}\\sum_{a'}\\pi(a'|s') Q^{\\pi'}(s',a') \\leq \\sum_{a'}\\pi(a'|s') \\max_{\\pi'} Q^{\\pi'}(s',a') \\> \n",
        "\\end{equation*}\n",
        "And for any $\\hat{\\pi} \\in argmax_{\\pi}Q^\\pi(s,a) $,\n",
        "\\begin{equation*}\n",
        "\\sum_{a'}\\pi(a'|s') \\max_{\\pi'} Q^{\\pi'}(s',a') = \\sum_{a'}\\pi(a'|s')  Q^{\\hat{\\pi}}(s',a') \\leq \\max_{\\pi'}\\sum_{a'}\\pi(a'|s') Q^{\\pi'}(s',a')  \\> \n",
        "\\end{equation*}\n",
        "Then,\n",
        "\\begin{equation*}\n",
        "Q^*(s,a)= r(s,a) +\\gamma \\sum_{s'}p(s'|s,a) \\max_{a'}\\sum_{a'}\\pi(a'|s') Q^{*}(s',a')\\> \n",
        "\\end{equation*}\n",
        "\n",
        "And, with the same argument we have,\n",
        "\n",
        "\\begin{equation*}\n",
        "\\max_{a'}\\sum_{a'}\\pi(a'|s') Q^{\\pi'}(s',a') = \\sum_{a'}\\pi^*(a'|s') \\max_{a'} Q^{\\pi'}(s',a') \\> \n",
        "\\end{equation*}\n",
        "Finally,\n",
        "\\begin{equation*}\n",
        "Q^{*}(s,a)=E_{s'\\sim \\pi^*(.|s,a)}[r(s,a)+\\gamma\\max_{a'}Q^{*}(s',a')].\n",
        "\\end{equation*}\n",
        "\n",
        "---------------------------------------------------\n",
        "Give the parameter $\\theta$ we have the Q function : $Q(s,a,\\theta)$.\n",
        "So we want: $Q(s,a,\\theta)$ as close as possible of the optimal Q-function:\n",
        "\\begin{equation*}\n",
        "Q^{*}(s,a)=E_{s'\\sim \\pi^*(.|s,a)}[r(s,a)+\\gamma\\max_{a'}Q^{*}(s',a')].\n",
        "\\end{equation*}\n",
        "Then, as the optimal Q-function is unkown, we want to improve our current Q-function at each step, thefore we want to reduce the distance between $Q(s,a,\\theta)$ and $E_{s'\\sim \\pi^*(.|s,a)}[r(s,a)+\\gamma\\max_{a'}Q(s',a',\\theta)]$.\n",
        "\n",
        "So, a plausible objective for our model is:\n",
        "\\begin{equation*}\n",
        "\\mathcal{L}(\\theta)=E_{s' \\sim \\pi^*(.|s,a)}\\Vert r+\\gamma\\max_{a'}Q(s',a',\\theta)-Q(s,a,\\theta)\\Vert^{2}.\n",
        "\\end{equation*}\n"
      ]
    },
    {
      "cell_type": "markdown",
      "metadata": {
        "id": "0W3iXhXtH8j-",
        "colab_type": "text"
      },
      "source": [
        "***\n",
        "The DQN-learning algorithm relies on these derivations to train the parameters $\\theta$ of a Deep Neural Network:\n",
        "\n",
        "1. At the state $s_t$, select the action $a_t$ with best reward using $Q_t$ and store the results;\n",
        "\n",
        "2. Obtain the new state $s_{t+1}$ from the environment $p$;\n",
        "\n",
        "3. Store $(s_t,a_t,s_{t+1})$;\n",
        "\n",
        "4. Obtain $Q_{t+1}$ by minimizing  $\\mathcal{L}$ from a recovered batch from the previously stored results.\n",
        "\n",
        "***\n",
        "__Question 6__ Implement the class ```Memory``` that stores moves (in a replay buffer) via ```remember``` and provides a ```random_access``` to these. Specify a maximum memory size to avoid side effects. You can for example use a ```list()``` and set by default ```max_memory=100```."
      ]
    },
    {
      "cell_type": "code",
      "metadata": {
        "id": "by5iWm9zH8kA",
        "colab_type": "code",
        "colab": {}
      },
      "source": [
        "class Memory(object):\n",
        "    def __init__(self, max_memory=100):\n",
        "        self.max_memory = max_memory\n",
        "        self.memory = list()\n",
        "\n",
        "    def remember(self, m):\n",
        "        if len(self.memory)<self.max_memory:\n",
        "          self.memory.append(m)\n",
        "        else:\n",
        "          self.memory=self.memory[:-1]\n",
        "          self.memory.append(m)\n",
        "    \n",
        "    def random_access(self):\n",
        "        return(self.memory[np.random.randint(len(self.memory))])"
      ],
      "execution_count": 0,
      "outputs": []
    },
    {
      "cell_type": "markdown",
      "metadata": {
        "id": "ZcR7bKTuH8kH",
        "colab_type": "text"
      },
      "source": [
        "***\n",
        "The pipeline we will use for training is given below:"
      ]
    },
    {
      "cell_type": "code",
      "metadata": {
        "id": "tKAPFs9sH8kJ",
        "colab_type": "code",
        "colab": {}
      },
      "source": [
        "def train(agent,env,epoch,prefix=''):\n",
        "    # Number of won games\n",
        "    score = 0\n",
        "    loss = 0\n",
        "\n",
        "    for e in range(epoch):\n",
        "        # At each epoch, we restart to a fresh game and get the initial state\n",
        "        state = env.reset()\n",
        "        # This assumes that the games will terminate\n",
        "        game_over = False\n",
        "\n",
        "        win = 0\n",
        "        lose = 0\n",
        "\n",
        "        while not game_over:\n",
        "            # The agent performs an action\n",
        "            action = agent.act(state)\n",
        "\n",
        "            # Apply an action to the environment, get the next state, the reward\n",
        "            # and if the games end\n",
        "            prev_state = state\n",
        "            state, reward, game_over = env.act(action)\n",
        "\n",
        "            # Update the counters\n",
        "            if reward > 0:\n",
        "                win = win + reward\n",
        "            if reward < 0:\n",
        "                lose = lose -reward\n",
        "\n",
        "            # Apply the reinforcement strategy\n",
        "            loss = agent.reinforce(prev_state, state,  action, reward, game_over)\n",
        "\n",
        "        # Save as a mp4\n",
        "        if e % 10 == 0:\n",
        "            env.draw(prefix+str(e))\n",
        "\n",
        "        # Update stats\n",
        "        score += win-lose\n",
        "\n",
        "        print(\"Epoch {:03d}/{:03d} | Loss {:.4f} | Win/lose count {}/{} ({})\"\n",
        "              .format(e, epoch, loss, win, lose, win-lose))\n",
        "        agent.save(name_weights=prefix+'model.h5',name_model=prefix+'model.json')"
      ],
      "execution_count": 0,
      "outputs": []
    },
    {
      "cell_type": "markdown",
      "metadata": {
        "id": "a0HDEix8H8kO",
        "colab_type": "text"
      },
      "source": [
        "***\n",
        "__Question 7__ Implement the DQN training algorithm using a cascade of fully connected layers. You can use different learning rate, batch size or memory size parameters. In particular, the loss might oscillate while the player will start to win the games. You have to find a good criterium."
      ]
    },
    {
      "cell_type": "markdown",
      "metadata": {
        "id": "mPZoX97CGKQ1",
        "colab_type": "text"
      },
      "source": [
        "We can first start by increasing the batch size, indee a bigger batchsize improve the efficiency of the SGD. Then, we can take a lower learning rate to reduce the loss oscillation. What's about the memory size ?"
      ]
    },
    {
      "cell_type": "code",
      "metadata": {
        "id": "PLOPEQYtH8kP",
        "colab_type": "code",
        "colab": {}
      },
      "source": [
        "class DQN(Agent):\n",
        "    def __init__(self, grid_size,  epsilon = 0.1, memory_size=100, batch_size = 16,n_state=2):\n",
        "        super(DQN, self).__init__(epsilon = epsilon)\n",
        "\n",
        "        # Discount for Q learning\n",
        "        self.discount = 0.99\n",
        "        \n",
        "        self.grid_size = grid_size\n",
        "        \n",
        "        # number of state\n",
        "        self.n_state = n_state\n",
        "\n",
        "        # Memory\n",
        "        self.memory = Memory(memory_size)\n",
        "        \n",
        "        # Batch size when learning\n",
        "        self.batch_size = batch_size\n",
        "\n",
        "    def learned_act(self, s):\n",
        "        #Return the best action learned at state s.\n",
        "        a=self.model.predict(np.array([s]))[0]\n",
        "        return(np.argmax(a))\n",
        "\n",
        "    def reinforce(self, s_, n_s_, a_, r_, game_over_):\n",
        "        # Two steps: first memorize the states, second learn from the pool\n",
        "\n",
        "        self.memory.remember([s_, n_s_, a_, r_, game_over_])\n",
        "        \n",
        "        input_states = np.zeros((self.batch_size, 5,5,self.n_state))\n",
        "        target_q = np.zeros((self.batch_size, 4))\n",
        "        \n",
        "        for i in range(self.batch_size):\n",
        "            ######## FILL IN\n",
        "            s_, n_s_, a_, r_, game_over_=self.memory.random_access()\n",
        "            input_states[i]=s_\n",
        "            target_q[i]=self.model.predict(np.array([s_]))\n",
        "\n",
        "            if game_over_:\n",
        "                ######## FILL IN\n",
        "                target_q[i][a_]=r_\n",
        "            else:\n",
        "                ######## FILL IN\n",
        "                target_q[i][a_]=r_+self.discount*np.max(self.model.predict(np.array([n_s_])))\n",
        "        ######## FILL IN\n",
        "        # HINT: Clip the target to avoid exploiding gradients.. -- clipping is a bit tighter\n",
        "        target_q = np.clip(target_q, -3, 3)\n",
        "\n",
        "        l = self.model.train_on_batch(input_states, target_q)\n",
        "\n",
        "\n",
        "        return l\n",
        "\n",
        "    def save(self,name_weights='model.h5',name_model='model.json'):\n",
        "        self.model.save_weights(name_weights, overwrite=True)\n",
        "        with open(name_model, \"w\") as outfile:\n",
        "            json.dump(self.model.to_json(), outfile)\n",
        "            \n",
        "    def load(self,name_weights='model.h5',name_model='model.json'):\n",
        "        with open(name_model, \"r\") as jfile:\n",
        "            model = model_from_json(json.load(jfile))\n",
        "        model.load_weights(name_weights)\n",
        "        model.compile(\"sgd\", \"mse\")\n",
        "        self.model = model\n",
        "\n",
        "from keras.layers import Flatten,Dropout\n",
        "\n",
        "            \n",
        "class DQN_FC(DQN):\n",
        "    def __init__(self, *args, lr=0.1,**kwargs):\n",
        "        super(DQN_FC, self).__init__( *args,**kwargs)\n",
        "        \n",
        "        # NN Model\n",
        "        \n",
        "        ####### FILL IN\n",
        "        model = Sequential()\n",
        "        model.add(Flatten(input_shape=(5,5,self.n_state)))\n",
        "        model.add(Dense(32))\n",
        "        model.add(Dropout(0.5))\n",
        "        model.add(Activation(\"relu\"))\n",
        "        model.add(Dense(16))\n",
        "        model.add(Dropout(0.5))\n",
        "        model.add(BatchNormalization())\n",
        "        model.add(Activation(\"relu\"))\n",
        "        model.add(Dense(4))\n",
        "        model.add(Activation(\"sigmoid\"))\n",
        "        \n",
        "        model.compile(sgd(lr=lr, decay=1e-4, momentum=0.0), \"mse\")\n",
        "        self.model = model\n",
        "        "
      ],
      "execution_count": 0,
      "outputs": []
    },
    {
      "cell_type": "code",
      "metadata": {
        "id": "SB-6babv9rc9",
        "colab_type": "code",
        "outputId": "83b6bf57-c6f2-42e7-e93b-6cc4c3f3a689",
        "colab": {
          "base_uri": "https://localhost:8080/",
          "height": 1000
        }
      },
      "source": [
        "env = Environment(grid_size=size, max_time=T, temperature=0.3)\n",
        "agent = DQN_FC(size, lr=.05, epsilon = 0.1, memory_size=2000, batch_size = 32)\n",
        "epochs_train=100\n",
        "train(agent,env,epochs_train,prefix='fc_train')\n",
        "HTML(display_videos('fc_train10.mp4'))"
      ],
      "execution_count": 14,
      "outputs": [
        {
          "output_type": "stream",
          "text": [
            "Epoch 000/100 | Loss 0.0275 | Win/lose count 5.5/3.0 (2.5)\n",
            "Epoch 001/100 | Loss 0.0304 | Win/lose count 2.0/3.0 (-1.0)\n",
            "Epoch 002/100 | Loss 0.0180 | Win/lose count 0.5/2.0 (-1.5)\n",
            "Epoch 003/100 | Loss 0.0099 | Win/lose count 4.5/11.0 (-6.5)\n",
            "Epoch 004/100 | Loss 0.0106 | Win/lose count 11.5/8.0 (3.5)\n",
            "Epoch 005/100 | Loss 0.0274 | Win/lose count 4.5/2.0 (2.5)\n",
            "Epoch 006/100 | Loss 0.0191 | Win/lose count 3.5/3.0 (0.5)\n",
            "Epoch 007/100 | Loss 0.0204 | Win/lose count 6.0/4.0 (2.0)\n",
            "Epoch 008/100 | Loss 0.0128 | Win/lose count 3.0/6.0 (-3.0)\n",
            "Epoch 009/100 | Loss 0.0242 | Win/lose count 3.5/3.0 (0.5)\n",
            "Epoch 010/100 | Loss 0.0063 | Win/lose count 1.0/3.0 (-2.0)\n",
            "Epoch 011/100 | Loss 0.0232 | Win/lose count 2.0/4.0 (-2.0)\n",
            "Epoch 012/100 | Loss 0.0047 | Win/lose count 1.5/2.0 (-0.5)\n",
            "Epoch 013/100 | Loss 0.0265 | Win/lose count 4.0/7.0 (-3.0)\n",
            "Epoch 014/100 | Loss 0.0090 | Win/lose count 4.5/7.0 (-2.5)\n",
            "Epoch 015/100 | Loss 0.0066 | Win/lose count 2.5/6.0 (-3.5)\n",
            "Epoch 016/100 | Loss 0.0163 | Win/lose count 6.0/4.0 (2.0)\n",
            "Epoch 017/100 | Loss 0.0101 | Win/lose count 4.0/3.0 (1.0)\n",
            "Epoch 018/100 | Loss 0.0054 | Win/lose count 5.0/5.0 (0.0)\n",
            "Epoch 019/100 | Loss 0.0117 | Win/lose count 5.0/3.0 (2.0)\n",
            "Epoch 020/100 | Loss 0.0065 | Win/lose count 1.5/4.0 (-2.5)\n",
            "Epoch 021/100 | Loss 0.0041 | Win/lose count 2.5/8.0 (-5.5)\n",
            "Epoch 022/100 | Loss 0.0033 | Win/lose count 5.5/4.0 (1.5)\n",
            "Epoch 023/100 | Loss 0.0043 | Win/lose count 1.0/2.0 (-1.0)\n",
            "Epoch 024/100 | Loss 0.0196 | Win/lose count 2.0/2.0 (0.0)\n",
            "Epoch 025/100 | Loss 0.0089 | Win/lose count 3.0/2.0 (1.0)\n",
            "Epoch 026/100 | Loss 0.0193 | Win/lose count 3.0/4.0 (-1.0)\n",
            "Epoch 027/100 | Loss 0.0024 | Win/lose count 1.5/6.0 (-4.5)\n",
            "Epoch 028/100 | Loss 0.0109 | Win/lose count 0.5/4.0 (-3.5)\n",
            "Epoch 029/100 | Loss 0.0088 | Win/lose count 4.0/11.0 (-7.0)\n",
            "Epoch 030/100 | Loss 0.0076 | Win/lose count 6.5/10.0 (-3.5)\n",
            "Epoch 031/100 | Loss 0.0057 | Win/lose count 4.0/2.0 (2.0)\n",
            "Epoch 032/100 | Loss 0.0118 | Win/lose count 2.0/5.0 (-3.0)\n",
            "Epoch 033/100 | Loss 0.0042 | Win/lose count 2.0/3.0 (-1.0)\n",
            "Epoch 034/100 | Loss 0.0019 | Win/lose count 4.5/5.0 (-0.5)\n",
            "Epoch 035/100 | Loss 0.0077 | Win/lose count 2.5/4.0 (-1.5)\n",
            "Epoch 036/100 | Loss 0.0260 | Win/lose count 1.5/2.0 (-0.5)\n",
            "Epoch 037/100 | Loss 0.0016 | Win/lose count 2.0/2.0 (0.0)\n",
            "Epoch 038/100 | Loss 0.0091 | Win/lose count 4.0/4.0 (0.0)\n",
            "Epoch 039/100 | Loss 0.0297 | Win/lose count 1.0/2.0 (-1.0)\n",
            "Epoch 040/100 | Loss 0.0076 | Win/lose count 2.5/5.0 (-2.5)\n",
            "Epoch 041/100 | Loss 0.0339 | Win/lose count 1.0/6.0 (-5.0)\n",
            "Epoch 042/100 | Loss 0.0132 | Win/lose count 1.5/1.0 (0.5)\n",
            "Epoch 043/100 | Loss 0.0125 | Win/lose count 2.5/1.0 (1.5)\n",
            "Epoch 044/100 | Loss 0.0097 | Win/lose count 1.5/6.0 (-4.5)\n",
            "Epoch 045/100 | Loss 0.0174 | Win/lose count 3.0/4.0 (-1.0)\n",
            "Epoch 046/100 | Loss 0.0143 | Win/lose count 3.5/6.0 (-2.5)\n",
            "Epoch 047/100 | Loss 0.0085 | Win/lose count 3.0/2.0 (1.0)\n",
            "Epoch 048/100 | Loss 0.0323 | Win/lose count 5.5/4.0 (1.5)\n",
            "Epoch 049/100 | Loss 0.0111 | Win/lose count 3.0/4.0 (-1.0)\n",
            "Epoch 050/100 | Loss 0.0096 | Win/lose count 2.0/3.0 (-1.0)\n",
            "Epoch 051/100 | Loss 0.0198 | Win/lose count 3.5/5.0 (-1.5)\n",
            "Epoch 052/100 | Loss 0.0155 | Win/lose count 1.0/1.0 (0.0)\n",
            "Epoch 053/100 | Loss 0.0142 | Win/lose count 3.5/10.0 (-6.5)\n",
            "Epoch 054/100 | Loss 0.0008 | Win/lose count 1.0/3.0 (-2.0)\n",
            "Epoch 055/100 | Loss 0.0257 | Win/lose count 2.5/3.0 (-0.5)\n",
            "Epoch 056/100 | Loss 0.0332 | Win/lose count 1.5/3.0 (-1.5)\n",
            "Epoch 057/100 | Loss 0.0007 | Win/lose count 2.5/5.0 (-2.5)\n",
            "Epoch 058/100 | Loss 0.0244 | Win/lose count 3.0/5.0 (-2.0)\n",
            "Epoch 059/100 | Loss 0.0140 | Win/lose count 0/3.0 (-3.0)\n",
            "Epoch 060/100 | Loss 0.0045 | Win/lose count 1.5/3.0 (-1.5)\n",
            "Epoch 061/100 | Loss 0.0156 | Win/lose count 0.5/1.0 (-0.5)\n",
            "Epoch 062/100 | Loss 0.0006 | Win/lose count 1.5/3.0 (-1.5)\n",
            "Epoch 063/100 | Loss 0.0107 | Win/lose count 1.0/4.0 (-3.0)\n",
            "Epoch 064/100 | Loss 0.0047 | Win/lose count 2.5/7.0 (-4.5)\n",
            "Epoch 065/100 | Loss 0.0021 | Win/lose count 3.0/5.0 (-2.0)\n",
            "Epoch 066/100 | Loss 0.0067 | Win/lose count 3.0/0 (3.0)\n",
            "Epoch 067/100 | Loss 0.0164 | Win/lose count 1.5/4.0 (-2.5)\n",
            "Epoch 068/100 | Loss 0.0051 | Win/lose count 3.0/3.0 (0.0)\n",
            "Epoch 069/100 | Loss 0.0307 | Win/lose count 1.0/3.0 (-2.0)\n",
            "Epoch 070/100 | Loss 0.0007 | Win/lose count 3.5/6.0 (-2.5)\n",
            "Epoch 071/100 | Loss 0.0024 | Win/lose count 2.5/6.0 (-3.5)\n",
            "Epoch 072/100 | Loss 0.0165 | Win/lose count 1.5/1.0 (0.5)\n",
            "Epoch 073/100 | Loss 0.0083 | Win/lose count 3.0/4.0 (-1.0)\n",
            "Epoch 074/100 | Loss 0.0212 | Win/lose count 3.0/3.0 (0.0)\n",
            "Epoch 075/100 | Loss 0.0024 | Win/lose count 0/0 (0)\n",
            "Epoch 076/100 | Loss 0.0176 | Win/lose count 1.0/4.0 (-3.0)\n",
            "Epoch 077/100 | Loss 0.0208 | Win/lose count 1.0/7.0 (-6.0)\n",
            "Epoch 078/100 | Loss 0.0058 | Win/lose count 2.0/9.0 (-7.0)\n",
            "Epoch 079/100 | Loss 0.0173 | Win/lose count 2.5/1.0 (1.5)\n",
            "Epoch 080/100 | Loss 0.0118 | Win/lose count 0.5/3.0 (-2.5)\n",
            "Epoch 081/100 | Loss 0.0058 | Win/lose count 4.0/3.0 (1.0)\n",
            "Epoch 082/100 | Loss 0.0007 | Win/lose count 3.5/3.0 (0.5)\n",
            "Epoch 083/100 | Loss 0.0173 | Win/lose count 3.0/3.0 (0.0)\n",
            "Epoch 084/100 | Loss 0.0128 | Win/lose count 2.0/7.0 (-5.0)\n",
            "Epoch 085/100 | Loss 0.0124 | Win/lose count 3.0/2.0 (1.0)\n",
            "Epoch 086/100 | Loss 0.0119 | Win/lose count 2.5/1.0 (1.5)\n",
            "Epoch 087/100 | Loss 0.0079 | Win/lose count 4.5/5.0 (-0.5)\n",
            "Epoch 088/100 | Loss 0.0092 | Win/lose count 1.0/3.0 (-2.0)\n",
            "Epoch 089/100 | Loss 0.0024 | Win/lose count 1.5/3.0 (-1.5)\n",
            "Epoch 090/100 | Loss 0.0006 | Win/lose count 2.0/0 (2.0)\n",
            "Epoch 091/100 | Loss 0.0097 | Win/lose count 3.0/8.0 (-5.0)\n",
            "Epoch 092/100 | Loss 0.0100 | Win/lose count 2.5/2.0 (0.5)\n",
            "Epoch 093/100 | Loss 0.0023 | Win/lose count 3.0/5.0 (-2.0)\n",
            "Epoch 094/100 | Loss 0.0042 | Win/lose count 2.0/2.0 (0.0)\n",
            "Epoch 095/100 | Loss 0.0178 | Win/lose count 5.0/0 (5.0)\n",
            "Epoch 096/100 | Loss 0.0124 | Win/lose count 7.5/7.0 (0.5)\n",
            "Epoch 097/100 | Loss 0.0065 | Win/lose count 1.0/2.0 (-1.0)\n",
            "Epoch 098/100 | Loss 0.0045 | Win/lose count 6.0/4.0 (2.0)\n",
            "Epoch 099/100 | Loss 0.0024 | Win/lose count 2.5/3.0 (-0.5)\n"
          ],
          "name": "stdout"
        },
        {
          "output_type": "execute_result",
          "data": {
            "text/html": [
              "<video alt=\"test\" controls>\n",
              "                <source src=\"data:video/mp4;base64,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\" type=\"video/mp4\" />\n",
              "             </video>"
            ],
            "text/plain": [
              "<IPython.core.display.HTML object>"
            ]
          },
          "metadata": {
            "tags": []
          },
          "execution_count": 14
        }
      ]
    },
    {
      "cell_type": "code",
      "metadata": {
        "id": "ue2RnTapwkRW",
        "colab_type": "code",
        "outputId": "a84c2aae-045a-4d60-8ef6-ae20cc8782fc",
        "colab": {
          "base_uri": "https://localhost:8080/",
          "height": 667
        }
      },
      "source": [
        "env = Environment(grid_size=size, max_time=T,temperature=0.3)\n",
        "agent_fc = DQN_FC(size, lr=.01, epsilon = 0.1, memory_size=2000, batch_size = 32)\n",
        "agent_fc.load(name_weights='fc_trainmodel.h5',name_model='fc_trainmodel.json')\n",
        "print('Test of the FC')\n",
        "test(agent_fc,env,epochs_test,prefix='fc_test')\n",
        "HTML(display_videos('fc_test9.mp4'))"
      ],
      "execution_count": 15,
      "outputs": [
        {
          "output_type": "stream",
          "text": [
            "Test of the FC\n",
            "Win/lose count 0/0. Average score (0.0)\n",
            "Win/lose count 0.5/0. Average score (0.5)\n",
            "Win/lose count 0.5/2.0. Average score (-0.6666666666666666)\n",
            "Win/lose count 2.5/0. Average score (0.75)\n",
            "Win/lose count 1.0/3.0. Average score (-0.2)\n",
            "Win/lose count 0.5/1.0. Average score (-0.3333333333333333)\n",
            "Win/lose count 0.5/0. Average score (-0.14285714285714285)\n",
            "Win/lose count 0/1.0. Average score (-0.375)\n",
            "Win/lose count 1.5/2.0. Average score (-0.4444444444444444)\n",
            "Win/lose count 0.5/1.0. Average score (-0.5)\n",
            "Win/lose count 0/0. Average score (-0.45454545454545453)\n",
            "Win/lose count 1.5/3.0. Average score (-0.6666666666666666)\n",
            "Win/lose count 0.5/0. Average score (-0.5384615384615384)\n",
            "Win/lose count 1.0/1.0. Average score (-0.5)\n",
            "Win/lose count 0.5/1.0. Average score (-0.5333333333333333)\n",
            "Win/lose count 1.0/0. Average score (-0.375)\n",
            "Win/lose count 0.5/1.0. Average score (-0.4117647058823529)\n",
            "Win/lose count 1.0/2.0. Average score (-0.5)\n",
            "Win/lose count 3.5/0. Average score (-0.10526315789473684)\n",
            "Win/lose count 0/0. Average score (-0.1)\n",
            "Final score: -0.1\n"
          ],
          "name": "stdout"
        },
        {
          "output_type": "execute_result",
          "data": {
            "text/html": [
              "<video alt=\"test\" controls>\n",
              "                <source src=\"data:video/mp4;base64,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\" type=\"video/mp4\" />\n",
              "             </video>"
            ],
            "text/plain": [
              "<IPython.core.display.HTML object>"
            ]
          },
          "metadata": {
            "tags": []
          },
          "execution_count": 15
        }
      ]
    },
    {
      "cell_type": "markdown",
      "metadata": {
        "id": "tVmZkWF0H8ka",
        "colab_type": "text"
      },
      "source": [
        "***\n",
        "***\n",
        "__Question 8__ Implement the DQN training algorithm using a CNN (for example, 2 convolutional layers and one final fully connected layer)."
      ]
    },
    {
      "cell_type": "code",
      "metadata": {
        "id": "gMhOW92FH8kc",
        "colab_type": "code",
        "colab": {}
      },
      "source": [
        "class DQN_CNN(DQN):\n",
        "    def __init__(self, *args,lr=0.1,**kwargs):\n",
        "        super(DQN_CNN, self).__init__(*args,**kwargs)\n",
        "        \n",
        "        model = Sequential()\n",
        "        model.add(Conv2D(64, (3, 3), padding=\"same\", activation=\"relu\",input_shape=(5,5,self.n_state)))\n",
        "        model.add(BatchNormalization())\n",
        "        model.add(AveragePooling2D())\n",
        "        model.add(Conv2D(64, (3, 3), padding=\"same\", activation=\"relu\"))\n",
        "        model.add(BatchNormalization())\n",
        "        model.add(AveragePooling2D(pool_size=(2, 2)))\n",
        "        model.add(Flatten())\n",
        "        model.add(Dense(4))\n",
        "        model.add(Activation(\"linear\"))\n",
        "        \n",
        "        model.compile(sgd(lr=lr, decay=1e-4, momentum=0.0), \"mse\")\n",
        "        self.model = model"
      ],
      "execution_count": 0,
      "outputs": []
    },
    {
      "cell_type": "code",
      "metadata": {
        "id": "tVrsyML_H8kg",
        "colab_type": "code",
        "outputId": "9d07f98d-d78a-4da8-c7ed-af51ee7100ed",
        "colab": {
          "base_uri": "https://localhost:8080/",
          "height": 1000
        }
      },
      "source": [
        "env = Environment(grid_size=size, max_time=T, temperature=0.3)\n",
        "agent = DQN_CNN(size, lr=.1, epsilon = 0.1, memory_size=2000, batch_size = 32)\n",
        "train(agent,env,epochs_train,prefix='cnn_train')\n",
        "HTML(display_videos('cnn_train10.mp4'))"
      ],
      "execution_count": 17,
      "outputs": [
        {
          "output_type": "stream",
          "text": [
            "WARNING:tensorflow:From /usr/local/lib/python3.6/dist-packages/keras/backend/tensorflow_backend.py:2041: The name tf.nn.fused_batch_norm is deprecated. Please use tf.compat.v1.nn.fused_batch_norm instead.\n",
            "\n",
            "WARNING:tensorflow:From /usr/local/lib/python3.6/dist-packages/keras/backend/tensorflow_backend.py:4271: The name tf.nn.avg_pool is deprecated. Please use tf.nn.avg_pool2d instead.\n",
            "\n",
            "Epoch 000/100 | Loss 0.3331 | Win/lose count 7.0/8.0 (-1.0)\n",
            "Epoch 001/100 | Loss 0.2966 | Win/lose count 7.5/6.0 (1.5)\n",
            "Epoch 002/100 | Loss 0.3817 | Win/lose count 2.5/7.0 (-4.5)\n",
            "Epoch 003/100 | Loss 0.5571 | Win/lose count 3.0/9.0 (-6.0)\n",
            "Epoch 004/100 | Loss 0.2167 | Win/lose count 2.5/6.0 (-3.5)\n",
            "Epoch 005/100 | Loss 0.0880 | Win/lose count 2.5/1.0 (1.5)\n",
            "Epoch 006/100 | Loss 0.0177 | Win/lose count 9.5/7.0 (2.5)\n",
            "Epoch 007/100 | Loss 0.0039 | Win/lose count 3.5/5.0 (-1.5)\n",
            "Epoch 008/100 | Loss 0.1416 | Win/lose count 2.5/7.0 (-4.5)\n",
            "Epoch 009/100 | Loss 0.0336 | Win/lose count 4.5/3.0 (1.5)\n",
            "Epoch 010/100 | Loss 0.0064 | Win/lose count 8.0/3.0 (5.0)\n",
            "Epoch 011/100 | Loss 0.0053 | Win/lose count 1.5/2.0 (-0.5)\n",
            "Epoch 012/100 | Loss 0.0408 | Win/lose count 7.0/2.0 (5.0)\n",
            "Epoch 013/100 | Loss 0.0248 | Win/lose count 6.0/3.0 (3.0)\n",
            "Epoch 014/100 | Loss 0.0181 | Win/lose count 11.5/2.0 (9.5)\n",
            "Epoch 015/100 | Loss 0.0207 | Win/lose count 5.0/2.0 (3.0)\n",
            "Epoch 016/100 | Loss 0.0143 | Win/lose count 7.0/3.0 (4.0)\n",
            "Epoch 017/100 | Loss 0.0035 | Win/lose count 4.0/1.0 (3.0)\n",
            "Epoch 018/100 | Loss 0.0071 | Win/lose count 11.5/2.0 (9.5)\n",
            "Epoch 019/100 | Loss 0.0049 | Win/lose count 3.5/3.0 (0.5)\n",
            "Epoch 020/100 | Loss 0.0078 | Win/lose count 8.5/6.0 (2.5)\n",
            "Epoch 021/100 | Loss 0.0035 | Win/lose count 6.0/3.0 (3.0)\n",
            "Epoch 022/100 | Loss 0.0055 | Win/lose count 8.5/3.0 (5.5)\n",
            "Epoch 023/100 | Loss 0.0157 | Win/lose count 1.0/1.0 (0.0)\n",
            "Epoch 024/100 | Loss 0.0082 | Win/lose count 2.0/0 (2.0)\n",
            "Epoch 025/100 | Loss 0.0187 | Win/lose count 8.5/1.0 (7.5)\n",
            "Epoch 026/100 | Loss 0.0173 | Win/lose count 9.5/1.0 (8.5)\n",
            "Epoch 027/100 | Loss 0.0172 | Win/lose count 6.0/4.0 (2.0)\n",
            "Epoch 028/100 | Loss 0.0253 | Win/lose count 6.5/2.0 (4.5)\n",
            "Epoch 029/100 | Loss 0.0451 | Win/lose count 5.5/1.0 (4.5)\n",
            "Epoch 030/100 | Loss 0.0120 | Win/lose count 3.5/1.0 (2.5)\n",
            "Epoch 031/100 | Loss 0.0097 | Win/lose count 9.0/6.0 (3.0)\n",
            "Epoch 032/100 | Loss 0.0349 | Win/lose count 3.5/3.0 (0.5)\n",
            "Epoch 033/100 | Loss 0.0663 | Win/lose count 9.5/4.0 (5.5)\n",
            "Epoch 034/100 | Loss 0.0034 | Win/lose count 8.5/1.0 (7.5)\n",
            "Epoch 035/100 | Loss 0.0064 | Win/lose count 4.0/3.0 (1.0)\n",
            "Epoch 036/100 | Loss 0.0834 | Win/lose count 3.5/5.0 (-1.5)\n",
            "Epoch 037/100 | Loss 0.0031 | Win/lose count 4.5/3.0 (1.5)\n",
            "Epoch 038/100 | Loss 0.0028 | Win/lose count 8.5/7.0 (1.5)\n",
            "Epoch 039/100 | Loss 0.0030 | Win/lose count 7.0/1.0 (6.0)\n",
            "Epoch 040/100 | Loss 0.0027 | Win/lose count 4.0/5.0 (-1.0)\n",
            "Epoch 041/100 | Loss 0.0262 | Win/lose count 8.0/5.0 (3.0)\n",
            "Epoch 042/100 | Loss 0.0103 | Win/lose count 3.0/2.0 (1.0)\n",
            "Epoch 043/100 | Loss 0.0058 | Win/lose count 4.0/3.0 (1.0)\n",
            "Epoch 044/100 | Loss 0.0053 | Win/lose count 4.5/1.0 (3.5)\n",
            "Epoch 045/100 | Loss 0.0309 | Win/lose count 6.0/1.0 (5.0)\n",
            "Epoch 046/100 | Loss 0.0107 | Win/lose count 3.5/1.0 (2.5)\n",
            "Epoch 047/100 | Loss 0.0115 | Win/lose count 6.5/2.0 (4.5)\n",
            "Epoch 048/100 | Loss 0.0461 | Win/lose count 5.5/2.0 (3.5)\n",
            "Epoch 049/100 | Loss 0.0097 | Win/lose count 7.0/4.0 (3.0)\n",
            "Epoch 050/100 | Loss 0.0098 | Win/lose count 10.5/4.0 (6.5)\n",
            "Epoch 051/100 | Loss 0.0775 | Win/lose count 8.0/3.0 (5.0)\n",
            "Epoch 052/100 | Loss 0.0073 | Win/lose count 6.0/2.0 (4.0)\n",
            "Epoch 053/100 | Loss 0.0050 | Win/lose count 8.5/4.0 (4.5)\n",
            "Epoch 054/100 | Loss 0.1146 | Win/lose count 7.5/9.0 (-1.5)\n",
            "Epoch 055/100 | Loss 0.0078 | Win/lose count 3.5/2.0 (1.5)\n",
            "Epoch 056/100 | Loss 0.0088 | Win/lose count 5.5/1.0 (4.5)\n",
            "Epoch 057/100 | Loss 0.0055 | Win/lose count 5.5/3.0 (2.5)\n",
            "Epoch 058/100 | Loss 0.0059 | Win/lose count 2.5/0 (2.5)\n",
            "Epoch 059/100 | Loss 0.0079 | Win/lose count 4.0/3.0 (1.0)\n",
            "Epoch 060/100 | Loss 0.0072 | Win/lose count 9.5/2.0 (7.5)\n",
            "Epoch 061/100 | Loss 0.0141 | Win/lose count 7.0/6.0 (1.0)\n",
            "Epoch 062/100 | Loss 0.0054 | Win/lose count 6.0/3.0 (3.0)\n",
            "Epoch 063/100 | Loss 0.0369 | Win/lose count 4.0/4.0 (0.0)\n",
            "Epoch 064/100 | Loss 0.0062 | Win/lose count 4.5/1.0 (3.5)\n",
            "Epoch 065/100 | Loss 0.0296 | Win/lose count 6.5/2.0 (4.5)\n",
            "Epoch 066/100 | Loss 0.0153 | Win/lose count 5.0/5.0 (0.0)\n",
            "Epoch 067/100 | Loss 0.0092 | Win/lose count 11.0/3.0 (8.0)\n",
            "Epoch 068/100 | Loss 0.0047 | Win/lose count 9.0/0 (9.0)\n",
            "Epoch 069/100 | Loss 0.0142 | Win/lose count 2.5/0 (2.5)\n",
            "Epoch 070/100 | Loss 0.0683 | Win/lose count 4.0/1.0 (3.0)\n",
            "Epoch 071/100 | Loss 0.0679 | Win/lose count 5.0/3.0 (2.0)\n",
            "Epoch 072/100 | Loss 0.0076 | Win/lose count 9.0/4.0 (5.0)\n",
            "Epoch 073/100 | Loss 0.0037 | Win/lose count 4.5/8.0 (-3.5)\n",
            "Epoch 074/100 | Loss 0.0049 | Win/lose count 1.5/3.0 (-1.5)\n",
            "Epoch 075/100 | Loss 0.0161 | Win/lose count 7.0/3.0 (4.0)\n",
            "Epoch 076/100 | Loss 0.0515 | Win/lose count 4.5/1.0 (3.5)\n",
            "Epoch 077/100 | Loss 0.0168 | Win/lose count 7.5/4.0 (3.5)\n",
            "Epoch 078/100 | Loss 0.0035 | Win/lose count 11.5/3.0 (8.5)\n",
            "Epoch 079/100 | Loss 0.0197 | Win/lose count 6.0/5.0 (1.0)\n",
            "Epoch 080/100 | Loss 0.0431 | Win/lose count 4.0/1.0 (3.0)\n",
            "Epoch 081/100 | Loss 0.0099 | Win/lose count 3.0/0 (3.0)\n",
            "Epoch 082/100 | Loss 0.0075 | Win/lose count 4.5/4.0 (0.5)\n",
            "Epoch 083/100 | Loss 0.0065 | Win/lose count 5.5/3.0 (2.5)\n",
            "Epoch 084/100 | Loss 0.0148 | Win/lose count 10.0/3.0 (7.0)\n",
            "Epoch 085/100 | Loss 0.0206 | Win/lose count 6.0/9.0 (-3.0)\n",
            "Epoch 086/100 | Loss 0.0595 | Win/lose count 3.0/6.0 (-3.0)\n",
            "Epoch 087/100 | Loss 0.0120 | Win/lose count 5.0/4.0 (1.0)\n",
            "Epoch 088/100 | Loss 0.0092 | Win/lose count 1.0/3.0 (-2.0)\n",
            "Epoch 089/100 | Loss 0.0101 | Win/lose count 3.0/0 (3.0)\n",
            "Epoch 090/100 | Loss 0.0162 | Win/lose count 2.0/3.0 (-1.0)\n",
            "Epoch 091/100 | Loss 0.0219 | Win/lose count 4.0/4.0 (0.0)\n",
            "Epoch 092/100 | Loss 0.0398 | Win/lose count 4.5/4.0 (0.5)\n",
            "Epoch 093/100 | Loss 0.0242 | Win/lose count 5.5/5.0 (0.5)\n",
            "Epoch 094/100 | Loss 0.0116 | Win/lose count 8.5/4.0 (4.5)\n",
            "Epoch 095/100 | Loss 0.0238 | Win/lose count 4.0/5.0 (-1.0)\n",
            "Epoch 096/100 | Loss 0.0212 | Win/lose count 3.5/2.0 (1.5)\n",
            "Epoch 097/100 | Loss 0.0245 | Win/lose count 3.5/4.0 (-0.5)\n",
            "Epoch 098/100 | Loss 0.0695 | Win/lose count 6.0/3.0 (3.0)\n",
            "Epoch 099/100 | Loss 0.0107 | Win/lose count 8.5/5.0 (3.5)\n"
          ],
          "name": "stdout"
        },
        {
          "output_type": "execute_result",
          "data": {
            "text/html": [
              "<video alt=\"test\" controls>\n",
              "                <source src=\"data:video/mp4;base64,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\" type=\"video/mp4\" />\n",
              "             </video>"
            ],
            "text/plain": [
              "<IPython.core.display.HTML object>"
            ]
          },
          "metadata": {
            "tags": []
          },
          "execution_count": 17
        }
      ]
    },
    {
      "cell_type": "markdown",
      "metadata": {
        "id": "rQTjiQ1gH8kk",
        "colab_type": "text"
      },
      "source": [
        "***\n",
        "***\n",
        "__Question 9__ Test both algorithms and compare their performances. Which issue(s) do you observe? Observe also different behaviors by changing the temperature."
      ]
    },
    {
      "cell_type": "code",
      "metadata": {
        "id": "bBsL-d2jH8kl",
        "colab_type": "code",
        "outputId": "d80cbbbf-9cc5-410b-d09c-5e9f9fafa61c",
        "colab": {
          "base_uri": "https://localhost:8080/",
          "height": 391
        }
      },
      "source": [
        "env = Environment(grid_size=size, max_time=T,temperature=0.3)\n",
        "agent_cnn = DQN_CNN(size, lr=.1, epsilon = 0.1, memory_size=2000, batch_size = 64)\n",
        "agent_cnn.load(name_weights='cnn_trainmodel.h5',name_model='cnn_trainmodel.json')\n",
        "print('Test of the CNN')\n",
        "test(agent_cnn,env,epochs_test,prefix='cnn_test')"
      ],
      "execution_count": 18,
      "outputs": [
        {
          "output_type": "stream",
          "text": [
            "Test of the CNN\n",
            "Win/lose count 5.0/4.0. Average score (2.0)\n",
            "Win/lose count 2.0/2.0. Average score (1.0)\n",
            "Win/lose count 2.5/2.0. Average score (1.0)\n",
            "Win/lose count 1.0/1.0. Average score (0.75)\n",
            "Win/lose count 2.5/2.0. Average score (0.8)\n",
            "Win/lose count 2.0/2.0. Average score (0.6666666666666666)\n",
            "Win/lose count 6.5/2.0. Average score (1.8571428571428572)\n",
            "Win/lose count 3.5/2.0. Average score (2.0)\n",
            "Win/lose count 1.0/1.0. Average score (1.7777777777777777)\n",
            "Win/lose count 1.5/2.0. Average score (1.5)\n",
            "Win/lose count 2.5/1.0. Average score (1.6363636363636365)\n",
            "Win/lose count 1.0/0. Average score (1.6666666666666667)\n",
            "Win/lose count 3.5/2.0. Average score (1.7692307692307692)\n",
            "Win/lose count 3.5/1.0. Average score (2.0)\n",
            "Win/lose count 1.0/2.0. Average score (1.7333333333333334)\n",
            "Win/lose count 0.5/3.0. Average score (1.3125)\n",
            "Win/lose count 0.5/0. Average score (1.2941176470588236)\n",
            "Win/lose count 3.0/2.0. Average score (1.3333333333333333)\n",
            "Win/lose count 2.0/0. Average score (1.4736842105263157)\n",
            "Win/lose count 1.5/0. Average score (1.55)\n",
            "Final score: 1.55\n"
          ],
          "name": "stdout"
        }
      ]
    },
    {
      "cell_type": "code",
      "metadata": {
        "id": "vZO0OpMlH8ks",
        "colab_type": "code",
        "outputId": "86a8dac8-38dc-4c13-c379-7b1c2dc4529b",
        "colab": {
          "base_uri": "https://localhost:8080/",
          "height": 293
        }
      },
      "source": [
        "HTML(display_videos('cnn_test1.mp4'))"
      ],
      "execution_count": 19,
      "outputs": [
        {
          "output_type": "execute_result",
          "data": {
            "text/html": [
              "<video alt=\"test\" controls>\n",
              "                <source src=\"data:video/mp4;base64,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\" type=\"video/mp4\" />\n",
              "             </video>"
            ],
            "text/plain": [
              "<IPython.core.display.HTML object>"
            ]
          },
          "metadata": {
            "tags": []
          },
          "execution_count": 19
        }
      ]
    },
    {
      "cell_type": "markdown",
      "metadata": {
        "id": "zM75A04gH8k2",
        "colab_type": "text"
      },
      "source": [
        "Both algorithm does not explore the entire map. Quickly the rat is in an area where there is nothing to attract him. Therefore, the rat just move randomly forward and backward. \n"
      ]
    },
    {
      "cell_type": "markdown",
      "metadata": {
        "id": "7_j8JMi6H8k4",
        "colab_type": "text"
      },
      "source": [
        "***\n",
        "\n",
        "The algorithm tends to not explore the map which can be an issue. We propose two ideas in order to encourage exploration:\n",
        "1. Incorporating a decreasing $\\epsilon$-greedy exploration. You can use the method ```set_epsilon```\n",
        "2. Append via the environment a new state that describes if a cell has been visited or not\n",
        "\n",
        "***\n",
        "__Question 10__ Design a new ```train_explore``` function and environment class ```EnvironmentExploring``` to tackle the issue of exploration.\n",
        "\n"
      ]
    },
    {
      "cell_type": "code",
      "metadata": {
        "id": "jFgjMsHrH8k6",
        "colab_type": "code",
        "colab": {}
      },
      "source": [
        "def train_explore(agent,env,epoch,prefix='', eps=0.4):\n",
        "    # Number of won games\n",
        "    score = 0\n",
        "    loss = 0\n",
        "    #Store initialization of epsilon\n",
        "    eps_0 = agent.epsilon\n",
        "\n",
        "\n",
        "    for e in range(epoch):\n",
        "        # At each epoch, we restart to a fresh game and get the initial state\n",
        "        state = env.reset()\n",
        "        # This assumes that the games will terminate\n",
        "        game_over = False\n",
        "\n",
        "        win = 0\n",
        "        lose = 0\n",
        "\n",
        "        #Updating epsilon\n",
        "        if e <= 2*epoch/3: #Exploring on the 2/3 first epochs\n",
        "          agent.set_epsilon(eps*(1-e/epoch))\n",
        "        else:\n",
        "          agent.set_epsilon(eps_0)\n",
        "\n",
        "        while not game_over:\n",
        "            # The agent performs an action\n",
        "            action = agent.act(state)\n",
        "\n",
        "            # Apply an action to the environment, get the next state, the reward\n",
        "            # and if the games end\n",
        "            prev_state = state\n",
        "            state, reward, game_over = env.act(action, train=True)\n",
        "\n",
        "            # Update the counters\n",
        "            if reward > 0:\n",
        "                win = win + reward\n",
        "            if reward < 0:\n",
        "                lose = lose -reward\n",
        "\n",
        "            # Apply the reinforcement strategy\n",
        "            loss = agent.reinforce(prev_state, state,  action, reward, game_over)\n",
        "\n",
        "        # Save as a mp4\n",
        "        if e % 10 == 0:\n",
        "            env.draw(prefix+str(e))\n",
        "\n",
        "        # Update stats\n",
        "        score += win-lose\n",
        "\n",
        "        print(\"Epoch {:03d}/{:03d} | Loss {:.4f} | Win/lose count {}/{} ({})\"\n",
        "              .format(e, epoch, loss, win, lose, win-lose))\n",
        "        agent.save(name_weights=prefix+'model.h5',name_model=prefix+'model.json')\n",
        "\n",
        "        \n",
        "class EnvironmentExploring(object):\n",
        "    def __init__(self, grid_size=10, max_time=500, temperature=0.1):\n",
        "        \n",
        "        grid_size = grid_size+4\n",
        "        self.grid_size = grid_size\n",
        "        self.max_time = max_time\n",
        "        self.temperature = temperature\n",
        "\n",
        "        #board on which one plays\n",
        "        self.board = np.zeros((grid_size,grid_size))\n",
        "        self.position = np.zeros((grid_size,grid_size))\n",
        "\n",
        "        # coordinate of the cat\n",
        "        self.x = 0\n",
        "        self.y = 1\n",
        "\n",
        "        # self time\n",
        "        self.t = 0\n",
        "\n",
        "        self.scale=16\n",
        "\n",
        "        self.to_draw = np.zeros((max_time+2, grid_size*self.scale, grid_size*self.scale, 3))\n",
        "\n",
        "        self.malus_position=np.zeros((self.grid_size, self.grid_size))\n",
        "\n",
        "    def draw(self,e):\n",
        "        skvideo.io.vwrite(str(e) + '.mp4', self.to_draw)\n",
        "\n",
        "    def get_frame(self,t):\n",
        "        b = np.zeros((self.grid_size,self.grid_size,3))+128\n",
        "        b[self.board>0,0] = 256\n",
        "        b[self.board < 0, 2] = 256\n",
        "        b[self.x,self.y,:]=256\n",
        "        b[-2:,:,:]=0\n",
        "        b[:,-2:,:]=0\n",
        "        b[:2,:,:]=0\n",
        "        b[:,:2,:]=0\n",
        "        \n",
        "        b =  cv2.resize(b, None, fx=self.scale, fy=self.scale, interpolation=cv2.INTER_NEAREST)\n",
        "\n",
        "        self.to_draw[t,:,:,:]=b\n",
        "\n",
        "\n",
        "    def act(self, action,train=False):\n",
        "        \"\"\"This function returns the new state, reward and decides if the\n",
        "        game ends.\"\"\"\n",
        "\n",
        "        self.get_frame(int(self.t))\n",
        "\n",
        "        self.position = np.zeros((self.grid_size, self.grid_size))\n",
        "\n",
        "        self.position[0:2,:]= -1\n",
        "        self.position[:,0:2] = -1\n",
        "        self.position[-2:, :] = -1\n",
        "        self.position[:, -2:] = -1\n",
        "\n",
        "        self.position[self.x, self.y] = 1\n",
        "        if action == 0:\n",
        "            if self.x == self.grid_size-3:\n",
        "                self.x = self.x-1\n",
        "            else:\n",
        "                self.x = self.x + 1\n",
        "        elif action == 1:\n",
        "            if self.x == 2:\n",
        "                self.x = self.x+1\n",
        "            else:\n",
        "                self.x = self.x-1\n",
        "        elif action == 2:\n",
        "            if self.y == self.grid_size - 3:\n",
        "                self.y = self.y - 1\n",
        "            else:\n",
        "                self.y = self.y + 1\n",
        "        elif action == 3:\n",
        "            if self.y == 2:\n",
        "                self.y = self.y + 1\n",
        "            else:\n",
        "                self.y = self.y - 1\n",
        "        else:\n",
        "            RuntimeError('Error: action not recognized')\n",
        "\n",
        "        self.t = self.t + 1\n",
        "\n",
        "        reward = 0\n",
        "        if train:\n",
        "            reward = -self.malus_position[self.x, self.y]\n",
        "        self.malus_position[self.x, self.y] = 0.1\n",
        "\n",
        "        reward = reward + self.board[self.x, self.y]\n",
        "\n",
        "        self.board[self.x, self.y] = 0\n",
        "        game_over = self.t > self.max_time\n",
        "        state = np.concatenate((self.malus_position.reshape(self.grid_size, self.grid_size,1),\n",
        "                                self.board.reshape(self.grid_size, self.grid_size,1),\n",
        "                        self.position.reshape(self.grid_size, self.grid_size,1)),axis=2)\n",
        "        \n",
        "        state = state[self.x-2:self.x+3,self.y-2:self.y+3,:]\n",
        "\n",
        "        return state, reward, game_over\n",
        "\n",
        "    def reset(self):\n",
        "        \"\"\"This function resets the game and returns the initial state\"\"\"\n",
        "\n",
        "        self.x = np.random.randint(3, self.grid_size-3, size=1)[0]\n",
        "        self.y = np.random.randint(3, self.grid_size-3, size=1)[0]\n",
        "\n",
        "\n",
        "        bonus = 0.5*np.random.binomial(1,self.temperature,size=self.grid_size**2)\n",
        "        bonus = bonus.reshape(self.grid_size,self.grid_size)\n",
        "\n",
        "        malus = -1.0*np.random.binomial(1,self.temperature,size=self.grid_size**2)\n",
        "        malus = malus.reshape(self.grid_size, self.grid_size)\n",
        "\n",
        "        self.to_draw = np.zeros((self.max_time+2, self.grid_size*self.scale, self.grid_size*self.scale, 3))\n",
        "\n",
        "\n",
        "        malus[bonus>0]=0\n",
        "\n",
        "        self.board = bonus + malus\n",
        "\n",
        "        self.position = np.zeros((self.grid_size, self.grid_size))\n",
        "        self.position[0:2,:]= -1\n",
        "        self.position[:,0:2] = -1\n",
        "        self.position[-2:, :] = -1\n",
        "        self.position[:, -2:] = -1\n",
        "        self.board[self.x,self.y] = 0\n",
        "        self.t = 0\n",
        "\n",
        "        state = np.concatenate((self.malus_position.reshape(self.grid_size, self.grid_size,1),\n",
        "                                self.board.reshape(self.grid_size, self.grid_size,1),\n",
        "                        self.position.reshape(self.grid_size, self.grid_size,1)),axis=2)\n",
        "\n",
        "        state = state[self.x - 2:self.x + 3, self.y - 2:self.y + 3, :]\n",
        "        return state"
      ],
      "execution_count": 0,
      "outputs": []
    },
    {
      "cell_type": "code",
      "metadata": {
        "id": "bDjJgeadH8lB",
        "colab_type": "code",
        "colab": {
          "base_uri": "https://localhost:8080/",
          "height": 1000
        },
        "outputId": "d5867411-0443-47c0-ed35-5a00f61047ff"
      },
      "source": [
        "# Training\n",
        "env = EnvironmentExploring(grid_size=size, max_time=T, temperature=0.3)\n",
        "agent = DQN_CNN(size, lr=.1, epsilon = 0.1, memory_size=2000, batch_size = 32,n_state=3)\n",
        "train_explore(agent, env, epochs_train, prefix='cnn_train_explore')\n",
        "HTML(display_videos('cnn_train_explore10.mp4'))"
      ],
      "execution_count": 25,
      "outputs": [
        {
          "output_type": "stream",
          "text": [
            "Epoch 000/100 | Loss 0.0185 | Win/lose count 5.5/17.499999999999982 (-11.999999999999982)\n",
            "Epoch 001/100 | Loss 0.0630 | Win/lose count 3.6/25.4000000000001 (-21.8000000000001)\n",
            "Epoch 002/100 | Loss 0.0229 | Win/lose count 2.4/24.70000000000009 (-22.300000000000093)\n",
            "Epoch 003/100 | Loss 0.0096 | Win/lose count 8.200000000000001/19.99999999999999 (-11.799999999999988)\n",
            "Epoch 004/100 | Loss 0.0393 | Win/lose count 4.1/25.100000000000065 (-21.000000000000064)\n",
            "Epoch 005/100 | Loss 0.0122 | Win/lose count 8.1/33.00000000000011 (-24.900000000000105)\n",
            "Epoch 006/100 | Loss 0.0643 | Win/lose count 10.400000000000006/24.400000000000077 (-14.000000000000071)\n",
            "Epoch 007/100 | Loss 0.0054 | Win/lose count 3.1999999999999997/24.300000000000068 (-21.10000000000007)\n",
            "Epoch 008/100 | Loss 0.0110 | Win/lose count 3.1999999999999997/28.20000000000012 (-25.00000000000012)\n",
            "Epoch 009/100 | Loss 0.0125 | Win/lose count 10.100000000000003/19.70000000000002 (-9.600000000000017)\n",
            "Epoch 010/100 | Loss 0.0184 | Win/lose count 8.400000000000002/28.00000000000005 (-19.600000000000048)\n",
            "Epoch 011/100 | Loss 0.0099 | Win/lose count 10.300000000000002/24.20000000000006 (-13.900000000000057)\n",
            "Epoch 012/100 | Loss 0.0089 | Win/lose count 13.700000000000005/24.600000000000044 (-10.90000000000004)\n",
            "Epoch 013/100 | Loss 0.0132 | Win/lose count 4.3999999999999995/25.000000000000064 (-20.600000000000065)\n",
            "Epoch 014/100 | Loss 0.0100 | Win/lose count 10.500000000000004/22.400000000000045 (-11.900000000000041)\n",
            "Epoch 015/100 | Loss 0.0120 | Win/lose count 6.400000000000001/27.40000000000011 (-21.000000000000107)\n",
            "Epoch 016/100 | Loss 0.0092 | Win/lose count 4.8/22.900000000000066 (-18.100000000000065)\n",
            "Epoch 017/100 | Loss 0.0075 | Win/lose count 13.900000000000007/25.600000000000055 (-11.700000000000047)\n",
            "Epoch 018/100 | Loss 0.0133 | Win/lose count 6.400000000000001/24.500000000000085 (-18.100000000000083)\n",
            "Epoch 019/100 | Loss 0.0163 | Win/lose count 10.400000000000004/20.50000000000001 (-10.100000000000007)\n",
            "Epoch 020/100 | Loss 0.0126 | Win/lose count 9.600000000000003/26.700000000000045 (-17.100000000000044)\n",
            "Epoch 021/100 | Loss 0.1117 | Win/lose count 17.200000000000003/25.800000000000107 (-8.600000000000104)\n",
            "Epoch 022/100 | Loss 0.0121 | Win/lose count 11.600000000000005/25.200000000000067 (-13.600000000000062)\n",
            "Epoch 023/100 | Loss 0.0038 | Win/lose count 5.4/20.80000000000003 (-15.400000000000029)\n",
            "Epoch 024/100 | Loss 0.0236 | Win/lose count 3.1999999999999997/23.30000000000007 (-20.100000000000072)\n",
            "Epoch 025/100 | Loss 0.0150 | Win/lose count 11.200000000000005/24.300000000000043 (-13.100000000000039)\n",
            "Epoch 026/100 | Loss 0.0458 | Win/lose count 3.9999999999999996/24.10000000000007 (-20.10000000000007)\n",
            "Epoch 027/100 | Loss 0.0093 | Win/lose count 6.800000000000002/23.400000000000063 (-16.600000000000062)\n",
            "Epoch 028/100 | Loss 0.1431 | Win/lose count 14.300000000000008/27.300000000000086 (-13.000000000000078)\n",
            "Epoch 029/100 | Loss 0.0173 | Win/lose count 5.6000000000000005/20.70000000000001 (-15.100000000000009)\n",
            "Epoch 030/100 | Loss 0.0435 | Win/lose count 10.400000000000004/21.500000000000014 (-11.10000000000001)\n",
            "Epoch 031/100 | Loss 0.0075 | Win/lose count 5.6000000000000005/23.70000000000007 (-18.10000000000007)\n",
            "Epoch 032/100 | Loss 0.0164 | Win/lose count 2.4/22.500000000000053 (-20.100000000000055)\n",
            "Epoch 033/100 | Loss 0.0466 | Win/lose count 7.200000000000002/23.300000000000068 (-16.100000000000065)\n",
            "Epoch 034/100 | Loss 0.0133 | Win/lose count 4.8/23.90000000000008 (-19.10000000000008)\n",
            "Epoch 035/100 | Loss 0.0046 | Win/lose count 11.600000000000005/22.200000000000045 (-10.60000000000004)\n",
            "Epoch 036/100 | Loss 0.0058 | Win/lose count 5.2/23.800000000000047 (-18.600000000000048)\n",
            "Epoch 037/100 | Loss 0.0043 | Win/lose count 3.5999999999999996/23.20000000000007 (-19.600000000000072)\n",
            "Epoch 038/100 | Loss 0.0233 | Win/lose count 8.800000000000002/19.90000000000002 (-11.100000000000017)\n",
            "Epoch 039/100 | Loss 0.0410 | Win/lose count 5.6000000000000005/24.70000000000005 (-19.100000000000048)\n",
            "Epoch 040/100 | Loss 0.0312 | Win/lose count 6.000000000000001/19.600000000000012 (-13.600000000000012)\n",
            "Epoch 041/100 | Loss 0.0183 | Win/lose count 7.600000000000002/20.20000000000002 (-12.60000000000002)\n",
            "Epoch 042/100 | Loss 0.0136 | Win/lose count 10.800000000000004/23.400000000000045 (-12.60000000000004)\n",
            "Epoch 043/100 | Loss 0.0031 | Win/lose count 9.200000000000003/25.80000000000008 (-16.600000000000076)\n",
            "Epoch 044/100 | Loss 0.0038 | Win/lose count 7.200000000000002/22.300000000000026 (-15.100000000000023)\n",
            "Epoch 045/100 | Loss 0.0056 | Win/lose count 6.000000000000001/23.60000000000006 (-17.60000000000006)\n",
            "Epoch 046/100 | Loss 0.0110 | Win/lose count 12.000000000000005/22.100000000000044 (-10.100000000000039)\n",
            "Epoch 047/100 | Loss 0.0094 | Win/lose count 9.600000000000003/23.700000000000067 (-14.100000000000064)\n",
            "Epoch 048/100 | Loss 0.0092 | Win/lose count 14.000000000000007/23.600000000000065 (-9.600000000000058)\n",
            "Epoch 049/100 | Loss 0.0134 | Win/lose count 8.800000000000002/25.900000000000095 (-17.100000000000094)\n",
            "Epoch 050/100 | Loss 0.0060 | Win/lose count 8.800000000000002/19.90000000000002 (-11.100000000000017)\n",
            "Epoch 051/100 | Loss 0.0159 | Win/lose count 3.9999999999999996/19.1 (-15.100000000000001)\n",
            "Epoch 052/100 | Loss 0.0206 | Win/lose count 9.200000000000003/20.80000000000002 (-11.600000000000016)\n",
            "Epoch 053/100 | Loss 0.0111 | Win/lose count 8.800000000000002/20.900000000000038 (-12.100000000000035)\n",
            "Epoch 054/100 | Loss 0.0110 | Win/lose count 11.200000000000005/21.300000000000022 (-10.100000000000017)\n",
            "Epoch 055/100 | Loss 0.0191 | Win/lose count 12.000000000000005/21.100000000000026 (-9.100000000000021)\n",
            "Epoch 056/100 | Loss 0.0071 | Win/lose count 7.200000000000002/22.300000000000022 (-15.10000000000002)\n",
            "Epoch 057/100 | Loss 0.0082 | Win/lose count 8.000000000000002/23.10000000000007 (-15.100000000000067)\n",
            "Epoch 058/100 | Loss 0.0119 | Win/lose count 8.800000000000002/24.900000000000073 (-16.100000000000072)\n",
            "Epoch 059/100 | Loss 0.0055 | Win/lose count 6.000000000000001/19.60000000000001 (-13.600000000000009)\n",
            "Epoch 060/100 | Loss 0.0038 | Win/lose count 4.3999999999999995/22.00000000000005 (-17.60000000000005)\n",
            "Epoch 061/100 | Loss 0.0061 | Win/lose count 12.000000000000005/24.10000000000006 (-12.100000000000053)\n",
            "Epoch 062/100 | Loss 0.0068 | Win/lose count 4.8/22.900000000000045 (-18.100000000000044)\n",
            "Epoch 063/100 | Loss 0.0063 | Win/lose count 7.200000000000002/20.300000000000004 (-13.100000000000001)\n",
            "Epoch 064/100 | Loss 0.0113 | Win/lose count 3.5999999999999996/21.20000000000004 (-17.600000000000037)\n",
            "Epoch 065/100 | Loss 0.0099 | Win/lose count 6.800000000000002/23.400000000000045 (-16.600000000000044)\n",
            "Epoch 066/100 | Loss 0.0080 | Win/lose count 3.9999999999999996/22.100000000000037 (-18.100000000000037)\n",
            "Epoch 067/100 | Loss 0.0116 | Win/lose count 3.1999999999999997/20.30000000000002 (-17.10000000000002)\n",
            "Epoch 068/100 | Loss 0.0323 | Win/lose count 4.3999999999999995/23.00000000000005 (-18.60000000000005)\n",
            "Epoch 069/100 | Loss 0.0104 | Win/lose count 5.2/19.800000000000015 (-14.600000000000016)\n",
            "Epoch 070/100 | Loss 0.0080 | Win/lose count 5.2/21.800000000000047 (-16.600000000000048)\n",
            "Epoch 071/100 | Loss 0.0106 | Win/lose count 13.600000000000007/21.70000000000003 (-8.100000000000025)\n",
            "Epoch 072/100 | Loss 0.0085 | Win/lose count 5.6000000000000005/20.700000000000028 (-15.100000000000026)\n",
            "Epoch 073/100 | Loss 0.0054 | Win/lose count 10.400000000000004/20.500000000000014 (-10.10000000000001)\n",
            "Epoch 074/100 | Loss 0.0062 | Win/lose count 6.800000000000002/19.40000000000001 (-12.600000000000009)\n",
            "Epoch 075/100 | Loss 0.0095 | Win/lose count 4.8/21.90000000000005 (-17.100000000000048)\n",
            "Epoch 076/100 | Loss 0.0032 | Win/lose count 1.6/21.700000000000042 (-20.10000000000004)\n",
            "Epoch 077/100 | Loss 0.0124 | Win/lose count 5.2/19.800000000000015 (-14.600000000000016)\n",
            "Epoch 078/100 | Loss 0.0052 | Win/lose count 2.8/20.400000000000023 (-17.600000000000023)\n",
            "Epoch 079/100 | Loss 0.0119 | Win/lose count 2.8/19.400000000000006 (-16.600000000000005)\n",
            "Epoch 080/100 | Loss 0.0037 | Win/lose count 4.3999999999999995/21.000000000000018 (-16.60000000000002)\n",
            "Epoch 081/100 | Loss 0.0045 | Win/lose count 3.5999999999999996/20.20000000000002 (-16.600000000000023)\n",
            "Epoch 082/100 | Loss 0.0149 | Win/lose count 10.400000000000004/24.500000000000046 (-14.100000000000042)\n",
            "Epoch 083/100 | Loss 0.0053 | Win/lose count 4.3999999999999995/20.000000000000014 (-15.600000000000016)\n",
            "Epoch 084/100 | Loss 0.0039 | Win/lose count 4.8/22.900000000000063 (-18.100000000000062)\n",
            "Epoch 085/100 | Loss 0.0074 | Win/lose count 3.5999999999999996/20.200000000000017 (-16.600000000000016)\n",
            "Epoch 086/100 | Loss 0.0046 | Win/lose count 6.000000000000001/19.599999999999994 (-13.599999999999994)\n",
            "Epoch 087/100 | Loss 0.0046 | Win/lose count 11.600000000000005/19.200000000000006 (-7.600000000000001)\n",
            "Epoch 088/100 | Loss 0.0043 | Win/lose count 7.200000000000002/21.30000000000004 (-14.100000000000037)\n",
            "Epoch 089/100 | Loss 0.0066 | Win/lose count 10.400000000000004/24.500000000000057 (-14.100000000000053)\n",
            "Epoch 090/100 | Loss 0.0188 | Win/lose count 6.800000000000002/20.40000000000001 (-13.600000000000009)\n",
            "Epoch 091/100 | Loss 0.0062 | Win/lose count 10.800000000000004/25.400000000000077 (-14.600000000000072)\n",
            "Epoch 092/100 | Loss 0.0144 | Win/lose count 1.2000000000000002/19.80000000000001 (-18.600000000000012)\n",
            "Epoch 093/100 | Loss 0.0115 | Win/lose count 2.8/26.400000000000123 (-23.600000000000122)\n",
            "Epoch 094/100 | Loss 0.0077 | Win/lose count 7.200000000000002/22.300000000000036 (-15.100000000000033)\n",
            "Epoch 095/100 | Loss 0.0209 | Win/lose count 6.000000000000001/22.600000000000062 (-16.600000000000062)\n",
            "Epoch 096/100 | Loss 0.0046 | Win/lose count 4.8/22.90000000000007 (-18.10000000000007)\n",
            "Epoch 097/100 | Loss 0.0040 | Win/lose count 3.9999999999999996/20.10000000000002 (-16.10000000000002)\n",
            "Epoch 098/100 | Loss 0.0264 | Win/lose count 10.800000000000004/23.40000000000004 (-12.600000000000037)\n",
            "Epoch 099/100 | Loss 0.0085 | Win/lose count 8.800000000000002/23.900000000000045 (-15.100000000000042)\n"
          ],
          "name": "stdout"
        },
        {
          "output_type": "execute_result",
          "data": {
            "text/html": [
              "<video alt=\"test\" controls>\n",
              "                <source src=\"data:video/mp4;base64,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\" type=\"video/mp4\" />\n",
              "             </video>"
            ],
            "text/plain": [
              "<IPython.core.display.HTML object>"
            ]
          },
          "metadata": {
            "tags": []
          },
          "execution_count": 25
        }
      ]
    },
    {
      "cell_type": "code",
      "metadata": {
        "id": "6TnhKFXwH8lG",
        "colab_type": "code",
        "colab": {
          "base_uri": "https://localhost:8080/",
          "height": 204
        },
        "outputId": "776c8fec-4721-4fee-fa11-3b7b8f93806f"
      },
      "source": [
        "# Evaluation\n",
        "test(agent,env,epochs_test,prefix='cnn_test_explore')\n",
        "HTML(display_videos('cnn_test_explore10.mp4'))"
      ],
      "execution_count": 0,
      "outputs": [
        {
          "output_type": "stream",
          "text": [
            "Win/lose count 1.5/0. Average score (3.0)\n",
            "Win/lose count 5.5/1.0. Average score (6.0)\n",
            "Win/lose count 11.0/0. Average score (11.333333333333334)\n",
            "Win/lose count 2.5/1.0. Average score (9.25)\n",
            "Win/lose count 7.0/0. Average score (10.2)\n",
            "Win/lose count 2.0/0. Average score (9.166666666666666)\n",
            "Win/lose count 3.0/1.0. Average score (8.428571428571429)\n",
            "Win/lose count 8.5/0. Average score (9.5)\n",
            "Win/lose count 4.5/1.0. Average score (9.222222222222221)\n",
            "Win/lose count 1.0/0. Average score (8.5)\n",
            "Win/lose count 6.5/1.0. Average score (8.727272727272727)\n"
          ],
          "name": "stdout"
        }
      ]
    },
    {
      "cell_type": "markdown",
      "metadata": {
        "id": "VBDieg0PH8lP",
        "colab_type": "text"
      },
      "source": [
        "***\n",
        "***\n",
        "__BONUS question__ Use the expert DQN from the previous question to generate some winning games. Train a model that mimicks its behavior. Compare the performances."
      ]
    },
    {
      "cell_type": "markdown",
      "metadata": {
        "id": "WDiNr4R0H8lQ",
        "colab_type": "text"
      },
      "source": [
        ""
      ]
    },
    {
      "cell_type": "markdown",
      "metadata": {
        "id": "OB9utnojH8lR",
        "colab_type": "text"
      },
      "source": [
        "***"
      ]
    }
  ]
}